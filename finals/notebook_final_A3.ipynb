{
 "cells": [
  {
   "cell_type": "markdown",
   "metadata": {},
   "source": [
    "<a id='toc'></a>\n",
    "\n",
    "### Table of Contents\n",
    "* [0. Identify business needs](#0)<br>\n",
    "* [1. Import Data](#1) <br>\n",
    "    * [1.1. Import the needed libraries](#1.1)<br>\n",
    "    * [1.2. Load raw data](#1.2)<br>\n",
    "    * [1.3. Merge the data](#1.3)<br>\n",
    "* [2. Data exploration](#2) <br>\n",
    "    * [2.1. Basic Exploration](#2.1)<br>\n",
    "    * [2.2. Statistical Exploration](#2.2)<br>\n",
    "    * [2.3. Visual Exploration](#2.3)<br>\n",
    "* [3. Data preprocessing](#3) <br>\n",
    "    * [3.1. Data Cleaning](#3.1)<br>\n",
    "    * [3.2. Missing Values](#3.2)<br>\n",
    "    * [3.3. Feature engineering](#3.3)<br>\n",
    "    * [3.4. Outliers](#3.4)<br>\n",
    "    * [3.5. Re-exploration of the data](#3.5)<br>\n",
    "    * [3.6. Data Transformation](#3.6)<br>     \n",
    "* [4. Clustering](#4) <br>        \n",
    "    * [4.1. User defined functions](#4.1)<br>\n",
    "    * [4.2. Value segmentation (ver. 1)](#4.2)<br> \n",
    "    * [4.3. Value segmentation (ver. 2)](#4.3)<br>  \n",
    "    * [4.4. Product segmentation ](#4.4)<br>    \n",
    "    * [4.5. Action segmentation ](#4.5)<br>  "
   ]
  },
  {
   "cell_type": "code",
   "execution_count": null,
   "metadata": {},
   "outputs": [],
   "source": []
  },
  {
   "cell_type": "code",
   "execution_count": null,
   "metadata": {},
   "outputs": [],
   "source": []
  },
  {
   "cell_type": "code",
   "execution_count": null,
   "metadata": {},
   "outputs": [],
   "source": []
  },
  {
   "cell_type": "code",
   "execution_count": null,
   "metadata": {},
   "outputs": [],
   "source": []
  },
  {
   "cell_type": "code",
   "execution_count": null,
   "metadata": {},
   "outputs": [],
   "source": []
  },
  {
   "cell_type": "code",
   "execution_count": null,
   "metadata": {},
   "outputs": [],
   "source": []
  },
  {
   "cell_type": "code",
   "execution_count": null,
   "metadata": {},
   "outputs": [],
   "source": []
  },
  {
   "cell_type": "code",
   "execution_count": null,
   "metadata": {},
   "outputs": [],
   "source": []
  }
 ],
 "metadata": {
  "kernelspec": {
   "display_name": "Python 3",
   "language": "python",
   "name": "python3"
  },
  "language_info": {
   "codemirror_mode": {
    "name": "ipython",
    "version": 3
   },
   "file_extension": ".py",
   "mimetype": "text/x-python",
   "name": "python",
   "nbconvert_exporter": "python",
   "pygments_lexer": "ipython3",
   "version": "3.8.5"
  }
 },
 "nbformat": 4,
 "nbformat_minor": 4
}
