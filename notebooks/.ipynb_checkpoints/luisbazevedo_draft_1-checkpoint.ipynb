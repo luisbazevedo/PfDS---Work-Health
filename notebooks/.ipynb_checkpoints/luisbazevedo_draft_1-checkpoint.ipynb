{
 "cells": [
  {
   "cell_type": "markdown",
   "metadata": {},
   "source": [
    "### Work and Health\n",
    "1. Importing the data\n",
    "* Functions to filter & clean the data\n",
    "2. data exploration\n",
    "    1. basic exploration\n",
    "    2. statistical exploration\n",
    "    3. visual exploration"
   ]
  },
  {
   "cell_type": "code",
   "execution_count": 1,
   "metadata": {},
   "outputs": [],
   "source": [
    "#Import the basic libraries\n",
    "import pandas as pd \n",
    "import numpy as np \n",
    "import matplotlib.pyplot as plt\n",
    "import seaborn as sns\n",
    "plt.style.use('ggplot')"
   ]
  },
  {
   "cell_type": "markdown",
   "metadata": {},
   "source": [
    "### Import diseases data"
   ]
  },
  {
   "cell_type": "code",
   "execution_count": 2,
   "metadata": {},
   "outputs": [],
   "source": [
    "df_diseases_1 = pd.read_csv('/Users/luisazevedo/Documents/GitHub/PfDS---Work-Health/raw data/Diseases_GHDx_2/IHME-GBD_2019_DATA-16b07a3d-1/IHME-GBD_2019_DATA-16b07a3d-1.csv')\n",
    "df_diseases_2 = pd.read_csv('/Users/luisazevedo/Documents/GitHub/PfDS---Work-Health/raw data/Diseases_GHDx_2/IHME-GBD_2019_DATA-16b07a3d-2/IHME-GBD_2019_DATA-16b07a3d-2.csv')\n",
    "df_diseases = df_diseases_1.append(df_diseases_2).reset_index()\n",
    "df_diseases.drop(columns = 'index', inplace = True)"
   ]
  },
  {
   "cell_type": "markdown",
   "metadata": {},
   "source": [
    "### Function to filter usefull disease data"
   ]
  },
  {
   "cell_type": "code",
   "execution_count": 3,
   "metadata": {},
   "outputs": [],
   "source": [
    "#data cleaning - function that receives year of analysis, gender, metric and measure. Returns the \"cleaned\" df\n",
    "\n",
    "def get_df_dis(df,year,gender,metric,measure):\n",
    "    \n",
    "    year = int(year)\n",
    "    \n",
    "    #drop redundant columns (code for each feature, mainly)\n",
    "    df.copy().drop(columns=['measure_id','location_id','measure_name','sex_id','age_id','age_name','cause_id','metric_id'\\\n",
    "                         ,'upper','lower'], inplace=True)\n",
    "    \n",
    "    #filter by gender and year (Male or Female)\n",
    "    df = df.loc[df_diseases['sex_name'].isin([gender])]\\\n",
    ".loc[df_diseases['year'] == year].drop(columns=['sex_name','year']).copy()\n",
    "    \n",
    "    #filter by metric (Number, Percent or Rate)\n",
    "    df = df.loc[df.metric_name == metric].copy()\n",
    "    df.drop(columns = ['metric_name'],inplace = True)\n",
    "    \n",
    "    #filter by measure (Incidence or Prevalence)\n",
    "    df = df.loc[df.measure_name == measure].copy()\n",
    "    df.drop(columns = ['measure_name'],inplace = True)\n",
    "    \n",
    "    #pivoting table with disease names = columns\n",
    "    df = df.copy().pivot(index='location_name', columns = 'cause_name', values = 'val')\n",
    "    \n",
    "    return df"
   ]
  },
  {
   "cell_type": "markdown",
   "metadata": {},
   "source": [
    "### Import health cost data"
   ]
  },
  {
   "cell_type": "code",
   "execution_count": 4,
   "metadata": {},
   "outputs": [],
   "source": [
    "df_health_cost = pd.read_excel('/Users/luisazevedo/Documents/GitHub/PfDS---Work-Health/raw data/Health_expenditure_WB/Health_expenditure_WB.xls',na_values='..')"
   ]
  },
  {
   "cell_type": "markdown",
   "metadata": {},
   "source": [
    "### Function to filter usefull HC data"
   ]
  },
  {
   "cell_type": "code",
   "execution_count": 5,
   "metadata": {},
   "outputs": [],
   "source": [
    "def get_df_hc(df,year):\n",
    "    \n",
    "    #transform column names into more readable names\n",
    "    new_col = list(df.columns)[0:4]\n",
    "    for col in list(df.columns)[4::]:\n",
    "        new_col.append(col.split(' ')[0])\n",
    "    \n",
    "    #reassign years as new columns\n",
    "    df.set_axis(new_col, axis=1, inplace=True)\n",
    "        \n",
    "    # remove unnecessary years\n",
    "    df = df[['Series Code','Country Name',year]].copy()\n",
    "    \n",
    "    #pivoting the table \n",
    "    df = df.copy().pivot(index='Country Name', columns = 'Series Code', values = year)\n",
    "    \n",
    "    #rename series columns for more readability\n",
    "    df.rename(columns={'SH.XPD.GHED.PP.CD':'Public_cost','SH.XPD.PVTD.PP.CD':'Private_cost'}, inplace=True)\n",
    "    \n",
    "    #rename index axis for further merging\n",
    "    df = df.rename_axis('location_name')\n",
    "    \n",
    "    return df"
   ]
  },
  {
   "cell_type": "markdown",
   "metadata": {},
   "source": [
    "### Import GDP p/capita data"
   ]
  },
  {
   "cell_type": "code",
   "execution_count": 6,
   "metadata": {},
   "outputs": [],
   "source": [
    "df_gdp = pd.read_excel('/Users/luisazevedo/Documents/GitHub/PfDS---Work-Health/raw data/GPD_WB/GPD_CAPITA_WB.xlsx',na_values='..')"
   ]
  },
  {
   "cell_type": "markdown",
   "metadata": {},
   "source": [
    "### Function to filter usefull GDP data"
   ]
  },
  {
   "cell_type": "code",
   "execution_count": 7,
   "metadata": {},
   "outputs": [],
   "source": [
    "def get_gdp(df,year):\n",
    "    \n",
    "    #transform column names into more readable names\n",
    "    new_col = list(df.columns)[0:4]\n",
    "    for col in list(df.columns)[4::]:\n",
    "        new_col.append(col.split(' ')[0])\n",
    "    \n",
    "    #reassign years as new columns\n",
    "    df.set_axis(new_col, axis=1, inplace=True)\n",
    "        \n",
    "    # remove unnecessary years\n",
    "    df = df[['Series Code','Country Name',year]].copy()\n",
    "    \n",
    "    #pivoting the table \n",
    "    df = df.copy().pivot(index='Country Name', columns = 'Series Code', values = year)\n",
    "    \n",
    "    #rename series columns for more readability\n",
    "    df.rename(columns={'NY.GDP.PCAP.CD':'GDP_per_cap'}, inplace=True)\n",
    "    \n",
    "    #rename index axis for further merging\n",
    "    df = df.rename_axis('location_name')\n",
    "    \n",
    "    return df"
   ]
  },
  {
   "cell_type": "markdown",
   "metadata": {},
   "source": [
    "### Import Employment data"
   ]
  },
  {
   "cell_type": "code",
   "execution_count": 8,
   "metadata": {},
   "outputs": [],
   "source": [
    "df_employment = pd.read_excel('/Users/luisazevedo/Documents/GitHub/PfDS---Work-Health/raw data/Employment_WB_2/Employment_WB_2.xlsx',na_values='..')"
   ]
  },
  {
   "cell_type": "markdown",
   "metadata": {},
   "source": [
    "### Function to filter usefull employment data"
   ]
  },
  {
   "cell_type": "code",
   "execution_count": 9,
   "metadata": {},
   "outputs": [],
   "source": [
    "def get_employment(df,year):\n",
    "    \n",
    "    #transform column names into more readable names\n",
    "    new_col = list(df.columns)[0:4]\n",
    "    for col in list(df.columns)[4::]:\n",
    "        new_col.append(col.split(' ')[0])\n",
    "    \n",
    "    #reassign years as new columns\n",
    "    df.set_axis(new_col, axis=1, inplace=True)\n",
    "        \n",
    "    # remove unnecessary years\n",
    "    df = df[['Series Code','Country Name',year]].copy()\n",
    "    \n",
    "    #pivoting the table \n",
    "    df = df.copy().pivot(index='Country Name', columns = 'Series Code', values = year)\n",
    "    \n",
    "    #rename columns for better readability\n",
    "    df.rename(columns={'SL.AGR.EMPL.FE.ZS':'per_female_agriculture',\\\n",
    "                      'SL.AGR.EMPL.MA.ZS':'per_male_agriculture',\\\n",
    "                      'SL.AGR.EMPL.ZS':'per_total_agriculture',\\\n",
    "                      'SL.EMP.TOTL.SP.ZS':'per_total_employment',\\\n",
    "                      'SL.EMP.TOTL.SP.MA.ZS':'per_male_employment',\\\n",
    "                      'SL.EMP.TOTL.SP.FE.ZS':'per_female_employment',\\\n",
    "                      'SL.IND.EMPL.FE.ZS':'per_female_industry',\\\n",
    "                      'SL.IND.EMPL.MA.ZS':'per_male_industry',\\\n",
    "                      'SL.IND.EMPL.ZS':'per_total_industry',\\\n",
    "                      'SL.SRV.EMPL.FE.ZS':'per_female_services',\\\n",
    "                      'SL.SRV.EMPL.MA.ZS':'per_male_services',\\\n",
    "                      'SL.SRV.EMPL.ZS':'per_total_services'}, inplace=True)\n",
    "    \n",
    "    #rename index axis for further merging\n",
    "    df = df.rename_axis('location_name')\n",
    "    \n",
    "    return df"
   ]
  },
  {
   "cell_type": "markdown",
   "metadata": {},
   "source": [
    "### Merging all, considering all genders & yr = 2009"
   ]
  },
  {
   "cell_type": "code",
   "execution_count": 10,
   "metadata": {},
   "outputs": [],
   "source": [
    "df1 = get_df_dis(df_diseases,'2009','Both','Rate','Incidence')\n",
    "df2 = get_df_hc(df_health_cost,'2009')\n",
    "df3 = get_gdp(df_gdp,'2009')\n",
    "df4 = get_employment(df_employment,'2009')\n",
    "\n",
    "df5 = pd.merge(df1,df2, on='location_name', how='inner')\n",
    "df6 = pd.merge(df5,df3, on='location_name', how='inner')\n",
    "df7 = pd.merge(df6,df4, on='location_name', how='inner')\n",
    "\n",
    "#remove gender related columns:\n",
    "col_remove = ['per_female_agriculture','per_male_agriculture','per_male_employment','per_female_employment',\\\n",
    "             'per_female_industry','per_male_industry','per_female_services','per_male_services']\n",
    "complete = df7.drop(columns = col_remove)"
   ]
  },
  {
   "cell_type": "markdown",
   "metadata": {},
   "source": [
    "### Basic statistical analysis"
   ]
  },
  {
   "cell_type": "code",
   "execution_count": 12,
   "metadata": {},
   "outputs": [
    {
     "data": {
      "text/html": [
       "<div>\n",
       "<style scoped>\n",
       "    .dataframe tbody tr th:only-of-type {\n",
       "        vertical-align: middle;\n",
       "    }\n",
       "\n",
       "    .dataframe tbody tr th {\n",
       "        vertical-align: top;\n",
       "    }\n",
       "\n",
       "    .dataframe thead th {\n",
       "        text-align: right;\n",
       "    }\n",
       "</style>\n",
       "<table border=\"1\" class=\"dataframe\">\n",
       "  <thead>\n",
       "    <tr style=\"text-align: right;\">\n",
       "      <th></th>\n",
       "      <th>Anxiety disorders</th>\n",
       "      <th>Bipolar disorder</th>\n",
       "      <th>Depressive disorders</th>\n",
       "      <th>Dermatitis</th>\n",
       "      <th>Headache disorders</th>\n",
       "      <th>Musculoskeletal disorders</th>\n",
       "      <th>Stroke</th>\n",
       "      <th>Public_cost</th>\n",
       "      <th>Private_cost</th>\n",
       "      <th>GDP_per_cap</th>\n",
       "      <th>per_total_agriculture</th>\n",
       "      <th>per_total_employment</th>\n",
       "      <th>per_total_industry</th>\n",
       "      <th>per_total_services</th>\n",
       "    </tr>\n",
       "  </thead>\n",
       "  <tbody>\n",
       "    <tr>\n",
       "      <th>count</th>\n",
       "      <td>174.000000</td>\n",
       "      <td>174.000000</td>\n",
       "      <td>174.000000</td>\n",
       "      <td>174.000000</td>\n",
       "      <td>174.000000</td>\n",
       "      <td>174.000000</td>\n",
       "      <td>174.000000</td>\n",
       "      <td>164.000000</td>\n",
       "      <td>164.000000</td>\n",
       "      <td>171.000000</td>\n",
       "      <td>158.000000</td>\n",
       "      <td>158.000000</td>\n",
       "      <td>158.000000</td>\n",
       "      <td>158.000000</td>\n",
       "    </tr>\n",
       "    <tr>\n",
       "      <th>mean</th>\n",
       "      <td>624.782236</td>\n",
       "      <td>55.121595</td>\n",
       "      <td>3867.494052</td>\n",
       "      <td>4676.904522</td>\n",
       "      <td>10311.366487</td>\n",
       "      <td>3883.235445</td>\n",
       "      <td>133.429291</td>\n",
       "      <td>759.115707</td>\n",
       "      <td>367.749762</td>\n",
       "      <td>14224.064739</td>\n",
       "      <td>28.787658</td>\n",
       "      <td>57.375759</td>\n",
       "      <td>19.526203</td>\n",
       "      <td>51.687342</td>\n",
       "    </tr>\n",
       "    <tr>\n",
       "      <th>std</th>\n",
       "      <td>124.989804</td>\n",
       "      <td>16.892747</td>\n",
       "      <td>1265.642952</td>\n",
       "      <td>789.922120</td>\n",
       "      <td>1546.756967</td>\n",
       "      <td>1241.087725</td>\n",
       "      <td>68.992856</td>\n",
       "      <td>1027.646976</td>\n",
       "      <td>479.767382</td>\n",
       "      <td>21984.211002</td>\n",
       "      <td>24.031788</td>\n",
       "      <td>11.745858</td>\n",
       "      <td>8.530746</td>\n",
       "      <td>18.731631</td>\n",
       "    </tr>\n",
       "    <tr>\n",
       "      <th>min</th>\n",
       "      <td>334.075556</td>\n",
       "      <td>17.427971</td>\n",
       "      <td>1225.377490</td>\n",
       "      <td>2795.506644</td>\n",
       "      <td>6572.752637</td>\n",
       "      <td>1941.034362</td>\n",
       "      <td>53.135734</td>\n",
       "      <td>4.098026</td>\n",
       "      <td>2.774991</td>\n",
       "      <td>212.136880</td>\n",
       "      <td>0.110000</td>\n",
       "      <td>34.389999</td>\n",
       "      <td>2.130000</td>\n",
       "      <td>8.410000</td>\n",
       "    </tr>\n",
       "    <tr>\n",
       "      <th>25%</th>\n",
       "      <td>529.018743</td>\n",
       "      <td>46.650171</td>\n",
       "      <td>2917.756676</td>\n",
       "      <td>4358.616348</td>\n",
       "      <td>9279.991172</td>\n",
       "      <td>2822.534585</td>\n",
       "      <td>87.731514</td>\n",
       "      <td>74.943953</td>\n",
       "      <td>80.469677</td>\n",
       "      <td>1368.596276</td>\n",
       "      <td>6.835000</td>\n",
       "      <td>49.532500</td>\n",
       "      <td>13.942500</td>\n",
       "      <td>36.505000</td>\n",
       "    </tr>\n",
       "    <tr>\n",
       "      <th>50%</th>\n",
       "      <td>625.437997</td>\n",
       "      <td>54.815924</td>\n",
       "      <td>3692.785828</td>\n",
       "      <td>4756.381267</td>\n",
       "      <td>9968.708235</td>\n",
       "      <td>3822.570477</td>\n",
       "      <td>117.616933</td>\n",
       "      <td>293.901901</td>\n",
       "      <td>217.951370</td>\n",
       "      <td>4714.702495</td>\n",
       "      <td>23.355000</td>\n",
       "      <td>57.265001</td>\n",
       "      <td>19.895000</td>\n",
       "      <td>54.130001</td>\n",
       "    </tr>\n",
       "    <tr>\n",
       "      <th>75%</th>\n",
       "      <td>696.301721</td>\n",
       "      <td>64.838742</td>\n",
       "      <td>4678.670512</td>\n",
       "      <td>5186.244693</td>\n",
       "      <td>12018.095730</td>\n",
       "      <td>4826.657601</td>\n",
       "      <td>149.739856</td>\n",
       "      <td>946.138855</td>\n",
       "      <td>498.757332</td>\n",
       "      <td>15340.275410</td>\n",
       "      <td>46.174999</td>\n",
       "      <td>64.354998</td>\n",
       "      <td>25.007500</td>\n",
       "      <td>67.030001</td>\n",
       "    </tr>\n",
       "    <tr>\n",
       "      <th>max</th>\n",
       "      <td>1117.506424</td>\n",
       "      <td>111.769667</td>\n",
       "      <td>8259.280389</td>\n",
       "      <td>6404.629094</td>\n",
       "      <td>13462.691108</td>\n",
       "      <td>6497.733111</td>\n",
       "      <td>429.546598</td>\n",
       "      <td>5282.389648</td>\n",
       "      <td>3665.752686</td>\n",
       "      <td>154762.199427</td>\n",
       "      <td>88.680000</td>\n",
       "      <td>85.480003</td>\n",
       "      <td>58.450001</td>\n",
       "      <td>85.739998</td>\n",
       "    </tr>\n",
       "  </tbody>\n",
       "</table>\n",
       "</div>"
      ],
      "text/plain": [
       "       Anxiety disorders  Bipolar disorder  Depressive disorders   Dermatitis  \\\n",
       "count         174.000000        174.000000            174.000000   174.000000   \n",
       "mean          624.782236         55.121595           3867.494052  4676.904522   \n",
       "std           124.989804         16.892747           1265.642952   789.922120   \n",
       "min           334.075556         17.427971           1225.377490  2795.506644   \n",
       "25%           529.018743         46.650171           2917.756676  4358.616348   \n",
       "50%           625.437997         54.815924           3692.785828  4756.381267   \n",
       "75%           696.301721         64.838742           4678.670512  5186.244693   \n",
       "max          1117.506424        111.769667           8259.280389  6404.629094   \n",
       "\n",
       "       Headache disorders  Musculoskeletal disorders      Stroke  Public_cost  \\\n",
       "count          174.000000                 174.000000  174.000000   164.000000   \n",
       "mean         10311.366487                3883.235445  133.429291   759.115707   \n",
       "std           1546.756967                1241.087725   68.992856  1027.646976   \n",
       "min           6572.752637                1941.034362   53.135734     4.098026   \n",
       "25%           9279.991172                2822.534585   87.731514    74.943953   \n",
       "50%           9968.708235                3822.570477  117.616933   293.901901   \n",
       "75%          12018.095730                4826.657601  149.739856   946.138855   \n",
       "max          13462.691108                6497.733111  429.546598  5282.389648   \n",
       "\n",
       "       Private_cost    GDP_per_cap  per_total_agriculture  \\\n",
       "count    164.000000     171.000000             158.000000   \n",
       "mean     367.749762   14224.064739              28.787658   \n",
       "std      479.767382   21984.211002              24.031788   \n",
       "min        2.774991     212.136880               0.110000   \n",
       "25%       80.469677    1368.596276               6.835000   \n",
       "50%      217.951370    4714.702495              23.355000   \n",
       "75%      498.757332   15340.275410              46.174999   \n",
       "max     3665.752686  154762.199427              88.680000   \n",
       "\n",
       "       per_total_employment  per_total_industry  per_total_services  \n",
       "count            158.000000          158.000000          158.000000  \n",
       "mean              57.375759           19.526203           51.687342  \n",
       "std               11.745858            8.530746           18.731631  \n",
       "min               34.389999            2.130000            8.410000  \n",
       "25%               49.532500           13.942500           36.505000  \n",
       "50%               57.265001           19.895000           54.130001  \n",
       "75%               64.354998           25.007500           67.030001  \n",
       "max               85.480003           58.450001           85.739998  "
      ]
     },
     "execution_count": 12,
     "metadata": {},
     "output_type": "execute_result"
    }
   ],
   "source": [
    "complete.describe()"
   ]
  },
  {
   "cell_type": "code",
   "execution_count": 29,
   "metadata": {},
   "outputs": [
    {
     "data": {
      "text/plain": [
       "Anxiety disorders            0.531945\n",
       "Bipolar disorder             0.153592\n",
       "Depressive disorders         0.629286\n",
       "Dermatitis                  -0.404838\n",
       "Headache disorders           0.085927\n",
       "Musculoskeletal disorders    0.242787\n",
       "Stroke                       1.797327\n",
       "Public_cost                  1.815113\n",
       "Private_cost                 4.129686\n",
       "GDP_per_cap                  2.945391\n",
       "per_total_agriculture        0.632093\n",
       "per_total_employment         0.297543\n",
       "per_total_industry           0.423198\n",
       "per_total_services          -0.293063\n",
       "dtype: float64"
      ]
     },
     "execution_count": 29,
     "metadata": {},
     "output_type": "execute_result"
    }
   ],
   "source": [
    "complete.skew()"
   ]
  },
  {
   "cell_type": "code",
   "execution_count": 30,
   "metadata": {},
   "outputs": [
    {
     "data": {
      "text/plain": [
       "Anxiety disorders             0.819954\n",
       "Bipolar disorder              0.065800\n",
       "Depressive disorders          0.476525\n",
       "Dermatitis                   -0.321840\n",
       "Headache disorders           -0.852850\n",
       "Musculoskeletal disorders    -0.934694\n",
       "Stroke                        3.428166\n",
       "Public_cost                   2.888860\n",
       "Private_cost                 24.537669\n",
       "GDP_per_cap                  11.866605\n",
       "per_total_agriculture        -0.747826\n",
       "per_total_employment         -0.359834\n",
       "per_total_industry            1.649006\n",
       "per_total_services           -0.894226\n",
       "dtype: float64"
      ]
     },
     "execution_count": 30,
     "metadata": {},
     "output_type": "execute_result"
    }
   ],
   "source": [
    "complete.kurt()"
   ]
  },
  {
   "cell_type": "markdown",
   "metadata": {},
   "source": [
    "### Missing Values"
   ]
  },
  {
   "cell_type": "code",
   "execution_count": 16,
   "metadata": {},
   "outputs": [
    {
     "data": {
      "text/plain": [
       "Anxiety disorders            0.000000\n",
       "Bipolar disorder             0.000000\n",
       "Depressive disorders         0.000000\n",
       "Dermatitis                   0.000000\n",
       "Headache disorders           0.000000\n",
       "Musculoskeletal disorders    0.000000\n",
       "Stroke                       0.000000\n",
       "Public_cost                  5.747126\n",
       "Private_cost                 5.747126\n",
       "GDP_per_cap                  1.724138\n",
       "per_total_agriculture        9.195402\n",
       "per_total_employment         9.195402\n",
       "per_total_industry           9.195402\n",
       "per_total_services           9.195402\n",
       "dtype: float64"
      ]
     },
     "execution_count": 16,
     "metadata": {},
     "output_type": "execute_result"
    }
   ],
   "source": [
    "#missing values (% of total):\n",
    "complete.isna().sum()/1.74"
   ]
  },
  {
   "cell_type": "code",
   "execution_count": 27,
   "metadata": {},
   "outputs": [],
   "source": [
    "complete_no_na = complete.dropna()"
   ]
  },
  {
   "cell_type": "code",
   "execution_count": 31,
   "metadata": {},
   "outputs": [
    {
     "name": "stdout",
     "output_type": "stream",
     "text": [
      "<class 'pandas.core.frame.DataFrame'>\n",
      "Index: 151 entries, Afghanistan to Zambia\n",
      "Data columns (total 14 columns):\n",
      " #   Column                     Non-Null Count  Dtype  \n",
      "---  ------                     --------------  -----  \n",
      " 0   Anxiety disorders          151 non-null    float64\n",
      " 1   Bipolar disorder           151 non-null    float64\n",
      " 2   Depressive disorders       151 non-null    float64\n",
      " 3   Dermatitis                 151 non-null    float64\n",
      " 4   Headache disorders         151 non-null    float64\n",
      " 5   Musculoskeletal disorders  151 non-null    float64\n",
      " 6   Stroke                     151 non-null    float64\n",
      " 7   Public_cost                151 non-null    float64\n",
      " 8   Private_cost               151 non-null    float64\n",
      " 9   GDP_per_cap                151 non-null    float64\n",
      " 10  per_total_agriculture      151 non-null    float64\n",
      " 11  per_total_employment       151 non-null    float64\n",
      " 12  per_total_industry         151 non-null    float64\n",
      " 13  per_total_services         151 non-null    float64\n",
      "dtypes: float64(14)\n",
      "memory usage: 17.7+ KB\n"
     ]
    }
   ],
   "source": [
    "complete_no_na.info()\n",
    "#data size is 87% the size of the original"
   ]
  },
  {
   "cell_type": "markdown",
   "metadata": {},
   "source": [
    "### Using Gradient Boosting to fill in NA's"
   ]
  },
  {
   "cell_type": "code",
   "execution_count": 32,
   "metadata": {},
   "outputs": [],
   "source": [
    "from sklearn.ensemble import GradientBoostingRegressor"
   ]
  },
  {
   "cell_type": "code",
   "execution_count": 33,
   "metadata": {},
   "outputs": [],
   "source": [
    "def predict_missing(df, evaluated_column):\n",
    "    \"\"\" Predicts and updates the missing values for the different features. \"\"\"\n",
    "    \n",
    "    # defines the missing features\n",
    "    cols = ['Public_cost','Private_cost', 'GDP_per_cap','per_total_agriculture','per_total_employment',\\\n",
    "            'per_total_industry','per_total_services']\n",
    "    \n",
    "    # removes the evaluated feature\n",
    "    cols.remove(evaluated_column)\n",
    "    \n",
    "    # defines the data to be used using the gradiant boosting method\n",
    "    gb_data = df.select_dtypes(exclude=['object']).drop(columns = cols)\n",
    "    \n",
    "    # divides the data in missing and complete values\n",
    "    feature_na = gb_data.loc[gb_data[evaluated_column].isna()]\n",
    "    feature = gb_data.loc[~gb_data[evaluated_column].isna()]\n",
    "    \n",
    "    # defines the training data\n",
    "    x_train = feature.drop(columns = evaluated_column)\n",
    "    y_train = feature.copy().pop(evaluated_column)\n",
    "    \n",
    "    # fits the model\n",
    "    gb = GradientBoostingRegressor(n_estimators=100)\n",
    "    gb.fit(x_train, y_train)\n",
    "    \n",
    "    # predicts missing values\n",
    "    x_predict = feature_na.drop(columns = evaluated_column)\n",
    "    pred = pd.DataFrame(gb.predict(x_predict), index=x_predict.index, columns=[f'{evaluated_column}_na'])\n",
    "    \n",
    "    # fills the na values\n",
    "    df = df.merge(pred, left_index=True, right_index=True, how='left')\n",
    "    df.loc[df[evaluated_column].isna(), evaluated_column] = df[f'{evaluated_column}_na']\n",
    "    df.drop(columns = [f'{evaluated_column}_na'], inplace=True)\n",
    "    \n",
    "    return df"
   ]
  },
  {
   "cell_type": "code",
   "execution_count": 34,
   "metadata": {},
   "outputs": [],
   "source": [
    "complete_gb = (\n",
    "    complete\n",
    "    .pipe(predict_missing, 'Public_cost')\n",
    "    .pipe(predict_missing, 'Private_cost')\n",
    "    .pipe(predict_missing, 'GDP_per_cap')\n",
    "    .pipe(predict_missing, 'per_total_agriculture')\n",
    "    .pipe(predict_missing, 'per_total_employment')\n",
    "    .pipe(predict_missing, 'per_total_industry')\n",
    "    .pipe(predict_missing, 'per_total_services')\n",
    ")"
   ]
  },
  {
   "cell_type": "code",
   "execution_count": 35,
   "metadata": {},
   "outputs": [
    {
     "name": "stdout",
     "output_type": "stream",
     "text": [
      "<class 'pandas.core.frame.DataFrame'>\n",
      "Index: 174 entries, Afghanistan to Zimbabwe\n",
      "Data columns (total 14 columns):\n",
      " #   Column                     Non-Null Count  Dtype  \n",
      "---  ------                     --------------  -----  \n",
      " 0   Anxiety disorders          174 non-null    float64\n",
      " 1   Bipolar disorder           174 non-null    float64\n",
      " 2   Depressive disorders       174 non-null    float64\n",
      " 3   Dermatitis                 174 non-null    float64\n",
      " 4   Headache disorders         174 non-null    float64\n",
      " 5   Musculoskeletal disorders  174 non-null    float64\n",
      " 6   Stroke                     174 non-null    float64\n",
      " 7   Public_cost                174 non-null    float64\n",
      " 8   Private_cost               174 non-null    float64\n",
      " 9   GDP_per_cap                174 non-null    float64\n",
      " 10  per_total_agriculture      174 non-null    float64\n",
      " 11  per_total_employment       174 non-null    float64\n",
      " 12  per_total_industry         174 non-null    float64\n",
      " 13  per_total_services         174 non-null    float64\n",
      "dtypes: float64(14)\n",
      "memory usage: 25.4+ KB\n"
     ]
    }
   ],
   "source": [
    "complete_gb.info()"
   ]
  },
  {
   "cell_type": "code",
   "execution_count": 19,
   "metadata": {},
   "outputs": [
    {
     "data": {
      "image/png": "[encoded data removed]",
      "text/plain": [
       "<Figure size 1008x432 with 2 Axes>"
      ]
     },
     "metadata": {},
     "output_type": "display_data"
    }
   ],
   "source": [
    "# check distribution of feature with highest kurtosis/skewness\n",
    "fig, axes = plt.subplots(1,2, figsize = (14,6))\n",
    "sns.boxplot(ax = axes[0], data = complete, x = 'Private_cost').set(title='Private heatlth costs ($/capita)') \n",
    "sns.boxplot(ax = axes[1], data = complete, x = 'GDP_per_cap').set(title='GDP($/capita)')\n",
    "plt.show()"
   ]
  },
  {
   "cell_type": "code",
   "execution_count": 22,
   "metadata": {},
   "outputs": [
    {
     "data": {
      "text/html": [
       "<div>\n",
       "<style scoped>\n",
       "    .dataframe tbody tr th:only-of-type {\n",
       "        vertical-align: middle;\n",
       "    }\n",
       "\n",
       "    .dataframe tbody tr th {\n",
       "        vertical-align: top;\n",
       "    }\n",
       "\n",
       "    .dataframe thead th {\n",
       "        text-align: right;\n",
       "    }\n",
       "</style>\n",
       "<table border=\"1\" class=\"dataframe\">\n",
       "  <thead>\n",
       "    <tr style=\"text-align: right;\">\n",
       "      <th></th>\n",
       "      <th>Anxiety disorders</th>\n",
       "      <th>Bipolar disorder</th>\n",
       "      <th>Depressive disorders</th>\n",
       "      <th>Dermatitis</th>\n",
       "      <th>Headache disorders</th>\n",
       "      <th>Musculoskeletal disorders</th>\n",
       "      <th>Stroke</th>\n",
       "      <th>Public_cost</th>\n",
       "      <th>Private_cost</th>\n",
       "      <th>GDP_per_cap</th>\n",
       "      <th>per_total_agriculture</th>\n",
       "      <th>per_total_employment</th>\n",
       "      <th>per_total_industry</th>\n",
       "      <th>per_total_services</th>\n",
       "    </tr>\n",
       "    <tr>\n",
       "      <th>location_name</th>\n",
       "      <th></th>\n",
       "      <th></th>\n",
       "      <th></th>\n",
       "      <th></th>\n",
       "      <th></th>\n",
       "      <th></th>\n",
       "      <th></th>\n",
       "      <th></th>\n",
       "      <th></th>\n",
       "      <th></th>\n",
       "      <th></th>\n",
       "      <th></th>\n",
       "      <th></th>\n",
       "      <th></th>\n",
       "    </tr>\n",
       "  </thead>\n",
       "  <tbody>\n",
       "    <tr>\n",
       "      <th>Liberia</th>\n",
       "      <td>542.636584</td>\n",
       "      <td>49.553481</td>\n",
       "      <td>4160.953334</td>\n",
       "      <td>4758.481181</td>\n",
       "      <td>9311.819361</td>\n",
       "      <td>2348.552841</td>\n",
       "      <td>73.778566</td>\n",
       "      <td>685.321594</td>\n",
       "      <td>3571.484619</td>\n",
       "      <td>470.947620</td>\n",
       "      <td>47.959999</td>\n",
       "      <td>73.849998</td>\n",
       "      <td>10.770000</td>\n",
       "      <td>41.270000</td>\n",
       "    </tr>\n",
       "    <tr>\n",
       "      <th>Switzerland</th>\n",
       "      <td>830.719140</td>\n",
       "      <td>63.446000</td>\n",
       "      <td>4701.922288</td>\n",
       "      <td>3259.906917</td>\n",
       "      <td>12046.861016</td>\n",
       "      <td>5667.745162</td>\n",
       "      <td>118.497758</td>\n",
       "      <td>1736.888062</td>\n",
       "      <td>3665.752686</td>\n",
       "      <td>69927.468758</td>\n",
       "      <td>3.250000</td>\n",
       "      <td>65.470001</td>\n",
       "      <td>22.139999</td>\n",
       "      <td>74.610001</td>\n",
       "    </tr>\n",
       "  </tbody>\n",
       "</table>\n",
       "</div>"
      ],
      "text/plain": [
       "               Anxiety disorders  Bipolar disorder  Depressive disorders  \\\n",
       "location_name                                                              \n",
       "Liberia               542.636584         49.553481           4160.953334   \n",
       "Switzerland           830.719140         63.446000           4701.922288   \n",
       "\n",
       "                Dermatitis  Headache disorders  Musculoskeletal disorders  \\\n",
       "location_name                                                               \n",
       "Liberia        4758.481181         9311.819361                2348.552841   \n",
       "Switzerland    3259.906917        12046.861016                5667.745162   \n",
       "\n",
       "                   Stroke  Public_cost  Private_cost   GDP_per_cap  \\\n",
       "location_name                                                        \n",
       "Liberia         73.778566   685.321594   3571.484619    470.947620   \n",
       "Switzerland    118.497758  1736.888062   3665.752686  69927.468758   \n",
       "\n",
       "               per_total_agriculture  per_total_employment  \\\n",
       "location_name                                                \n",
       "Liberia                    47.959999             73.849998   \n",
       "Switzerland                 3.250000             65.470001   \n",
       "\n",
       "               per_total_industry  per_total_services  \n",
       "location_name                                          \n",
       "Liberia                 10.770000           41.270000  \n",
       "Switzerland             22.139999           74.610001  "
      ]
     },
     "execution_count": 22,
     "metadata": {},
     "output_type": "execute_result"
    }
   ],
   "source": [
    "complete.loc[complete.Private_cost > 3500]"
   ]
  },
  {
   "cell_type": "code",
   "execution_count": 26,
   "metadata": {},
   "outputs": [
    {
     "data": {
      "text/html": [
       "<div>\n",
       "<style scoped>\n",
       "    .dataframe tbody tr th:only-of-type {\n",
       "        vertical-align: middle;\n",
       "    }\n",
       "\n",
       "    .dataframe tbody tr th {\n",
       "        vertical-align: top;\n",
       "    }\n",
       "\n",
       "    .dataframe thead th {\n",
       "        text-align: right;\n",
       "    }\n",
       "</style>\n",
       "<table border=\"1\" class=\"dataframe\">\n",
       "  <thead>\n",
       "    <tr style=\"text-align: right;\">\n",
       "      <th></th>\n",
       "      <th>Anxiety disorders</th>\n",
       "      <th>Bipolar disorder</th>\n",
       "      <th>Depressive disorders</th>\n",
       "      <th>Dermatitis</th>\n",
       "      <th>Headache disorders</th>\n",
       "      <th>Musculoskeletal disorders</th>\n",
       "      <th>Stroke</th>\n",
       "      <th>Public_cost</th>\n",
       "      <th>Private_cost</th>\n",
       "      <th>GDP_per_cap</th>\n",
       "      <th>per_total_agriculture</th>\n",
       "      <th>per_total_employment</th>\n",
       "      <th>per_total_industry</th>\n",
       "      <th>per_total_services</th>\n",
       "    </tr>\n",
       "    <tr>\n",
       "      <th>location_name</th>\n",
       "      <th></th>\n",
       "      <th></th>\n",
       "      <th></th>\n",
       "      <th></th>\n",
       "      <th></th>\n",
       "      <th></th>\n",
       "      <th></th>\n",
       "      <th></th>\n",
       "      <th></th>\n",
       "      <th></th>\n",
       "      <th></th>\n",
       "      <th></th>\n",
       "      <th></th>\n",
       "      <th></th>\n",
       "    </tr>\n",
       "  </thead>\n",
       "  <tbody>\n",
       "    <tr>\n",
       "      <th>Monaco</th>\n",
       "      <td>681.938988</td>\n",
       "      <td>59.856304</td>\n",
       "      <td>5576.173113</td>\n",
       "      <td>3116.00854</td>\n",
       "      <td>11902.629783</td>\n",
       "      <td>5539.405743</td>\n",
       "      <td>190.492856</td>\n",
       "      <td>2266.853271</td>\n",
       "      <td>520.119812</td>\n",
       "      <td>154762.199427</td>\n",
       "      <td>NaN</td>\n",
       "      <td>NaN</td>\n",
       "      <td>NaN</td>\n",
       "      <td>NaN</td>\n",
       "    </tr>\n",
       "  </tbody>\n",
       "</table>\n",
       "</div>"
      ],
      "text/plain": [
       "               Anxiety disorders  Bipolar disorder  Depressive disorders  \\\n",
       "location_name                                                              \n",
       "Monaco                681.938988         59.856304           5576.173113   \n",
       "\n",
       "               Dermatitis  Headache disorders  Musculoskeletal disorders  \\\n",
       "location_name                                                              \n",
       "Monaco         3116.00854        11902.629783                5539.405743   \n",
       "\n",
       "                   Stroke  Public_cost  Private_cost    GDP_per_cap  \\\n",
       "location_name                                                         \n",
       "Monaco         190.492856  2266.853271    520.119812  154762.199427   \n",
       "\n",
       "               per_total_agriculture  per_total_employment  \\\n",
       "location_name                                                \n",
       "Monaco                           NaN                   NaN   \n",
       "\n",
       "               per_total_industry  per_total_services  \n",
       "location_name                                          \n",
       "Monaco                        NaN                 NaN  "
      ]
     },
     "execution_count": 26,
     "metadata": {},
     "output_type": "execute_result"
    }
   ],
   "source": [
    "complete.loc[complete.GDP_per_cap > 140000]"
   ]
  },
  {
   "cell_type": "code",
   "execution_count": null,
   "metadata": {},
   "outputs": [],
   "source": []
  }
 ],
 "metadata": {
  "kernelspec": {
   "display_name": "Python 3",
   "language": "python",
   "name": "python3"
  },
  "language_info": {
   "codemirror_mode": {
    "name": "ipython",
    "version": 3
   },
   "file_extension": ".py",
   "mimetype": "text/x-python",
   "name": "python",
   "nbconvert_exporter": "python",
   "pygments_lexer": "ipython3",
   "version": "3.8.5"
  }
 },
 "nbformat": 4,
 "nbformat_minor": 4
}
