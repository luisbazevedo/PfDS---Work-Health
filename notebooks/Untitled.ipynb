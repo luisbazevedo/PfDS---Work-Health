{
 "cells": [
  {
   "cell_type": "code",
   "execution_count": 2,
   "metadata": {},
   "outputs": [
    {
     "name": "stdout",
     "output_type": "stream",
     "text": [
      "Requirement already satisfied: pyshp in /Users/luisazevedo/opt/anaconda3/lib/python3.8/site-packages (2.1.3)\n",
      "Note: you may need to restart the kernel to use updated packages.\n"
     ]
    }
   ],
   "source": [
    "pip install pyshp"
   ]
  },
  {
   "cell_type": "code",
   "execution_count": 6,
   "metadata": {},
   "outputs": [],
   "source": [
    "import shapefile as shp"
   ]
  },
  {
   "cell_type": "code",
   "execution_count": 7,
   "metadata": {},
   "outputs": [],
   "source": [
    "%matplotlib inline"
   ]
  },
  {
   "cell_type": "code",
   "execution_count": 1,
   "metadata": {},
   "outputs": [
    {
     "name": "stdout",
     "output_type": "stream",
     "text": [
      "Collecting geopandas\n",
      "  Using cached geopandas-0.9.0-py2.py3-none-any.whl (994 kB)\n",
      "Requirement already satisfied: shapely>=1.6 in /Users/luisazevedo/opt/anaconda3/lib/python3.8/site-packages (from geopandas) (1.7.1)\n",
      "Requirement already satisfied: fiona>=1.8 in /Users/luisazevedo/opt/anaconda3/lib/python3.8/site-packages (from geopandas) (1.8.19)\n",
      "Requirement already satisfied: pyproj>=2.2.0 in /Users/luisazevedo/opt/anaconda3/lib/python3.8/site-packages (from geopandas) (3.0.1)\n",
      "Requirement already satisfied: pandas>=0.24.0 in /Users/luisazevedo/opt/anaconda3/lib/python3.8/site-packages (from geopandas) (1.1.3)\n",
      "Requirement already satisfied: attrs>=17 in /Users/luisazevedo/opt/anaconda3/lib/python3.8/site-packages (from fiona>=1.8->geopandas) (20.3.0)\n",
      "Requirement already satisfied: six>=1.7 in /Users/luisazevedo/opt/anaconda3/lib/python3.8/site-packages (from fiona>=1.8->geopandas) (1.15.0)\n",
      "Requirement already satisfied: click-plugins>=1.0 in /Users/luisazevedo/opt/anaconda3/lib/python3.8/site-packages (from fiona>=1.8->geopandas) (1.1.1)\n",
      "Requirement already satisfied: munch in /Users/luisazevedo/opt/anaconda3/lib/python3.8/site-packages (from fiona>=1.8->geopandas) (2.5.0)\n",
      "Requirement already satisfied: click<8,>=4.0 in /Users/luisazevedo/opt/anaconda3/lib/python3.8/site-packages (from fiona>=1.8->geopandas) (7.1.2)\n",
      "Requirement already satisfied: cligj>=0.5 in /Users/luisazevedo/opt/anaconda3/lib/python3.8/site-packages (from fiona>=1.8->geopandas) (0.7.1)\n",
      "Requirement already satisfied: certifi in /Users/luisazevedo/opt/anaconda3/lib/python3.8/site-packages (from fiona>=1.8->geopandas) (2020.6.20)\n",
      "Requirement already satisfied: numpy>=1.15.4 in /Users/luisazevedo/opt/anaconda3/lib/python3.8/site-packages (from pandas>=0.24.0->geopandas) (1.19.2)\n",
      "Requirement already satisfied: pytz>=2017.2 in /Users/luisazevedo/opt/anaconda3/lib/python3.8/site-packages (from pandas>=0.24.0->geopandas) (2020.1)\n",
      "Requirement already satisfied: python-dateutil>=2.7.3 in /Users/luisazevedo/opt/anaconda3/lib/python3.8/site-packages (from pandas>=0.24.0->geopandas) (2.8.1)\n",
      "Installing collected packages: geopandas\n",
      "Successfully installed geopandas-0.9.0\n",
      "Note: you may need to restart the kernel to use updated packages.\n"
     ]
    }
   ],
   "source": [
    "pip install geopandas"
   ]
  },
  {
   "cell_type": "code",
   "execution_count": 2,
   "metadata": {},
   "outputs": [
    {
     "name": "stdout",
     "output_type": "stream",
     "text": [
      "Requirement already satisfied: geoplot in /Users/luisazevedo/opt/anaconda3/lib/python3.8/site-packages (0.4.1)\n",
      "Requirement already satisfied: pandas in /Users/luisazevedo/opt/anaconda3/lib/python3.8/site-packages (from geoplot) (1.1.3)\n",
      "Requirement already satisfied: mapclassify>=2.1 in /Users/luisazevedo/opt/anaconda3/lib/python3.8/site-packages (from geoplot) (2.4.2)\n",
      "Requirement already satisfied: descartes in /Users/luisazevedo/opt/anaconda3/lib/python3.8/site-packages (from geoplot) (1.1.0)\n",
      "Requirement already satisfied: contextily>=1.0.0 in /Users/luisazevedo/opt/anaconda3/lib/python3.8/site-packages (from geoplot) (1.1.0)\n",
      "Requirement already satisfied: cartopy in /Users/luisazevedo/opt/anaconda3/lib/python3.8/site-packages (from geoplot) (0.18.0)\n",
      "Requirement already satisfied: matplotlib in /Users/luisazevedo/opt/anaconda3/lib/python3.8/site-packages (from geoplot) (3.3.2)\n",
      "Requirement already satisfied: geopandas in /Users/luisazevedo/opt/anaconda3/lib/python3.8/site-packages (from geoplot) (0.9.0)\n",
      "Requirement already satisfied: seaborn in /Users/luisazevedo/opt/anaconda3/lib/python3.8/site-packages (from geoplot) (0.11.0)\n",
      "Requirement already satisfied: python-dateutil>=2.7.3 in /Users/luisazevedo/opt/anaconda3/lib/python3.8/site-packages (from pandas->geoplot) (2.8.1)\n",
      "Requirement already satisfied: numpy>=1.15.4 in /Users/luisazevedo/opt/anaconda3/lib/python3.8/site-packages (from pandas->geoplot) (1.19.2)\n",
      "Requirement already satisfied: pytz>=2017.2 in /Users/luisazevedo/opt/anaconda3/lib/python3.8/site-packages (from pandas->geoplot) (2020.1)\n",
      "Requirement already satisfied: scikit-learn in /Users/luisazevedo/opt/anaconda3/lib/python3.8/site-packages (from mapclassify>=2.1->geoplot) (0.23.2)\n",
      "Requirement already satisfied: networkx in /Users/luisazevedo/opt/anaconda3/lib/python3.8/site-packages (from mapclassify>=2.1->geoplot) (2.5)\n",
      "Requirement already satisfied: scipy>=1.0 in /Users/luisazevedo/opt/anaconda3/lib/python3.8/site-packages (from mapclassify>=2.1->geoplot) (1.5.2)\n",
      "Requirement already satisfied: pillow in /Users/luisazevedo/opt/anaconda3/lib/python3.8/site-packages (from contextily>=1.0.0->geoplot) (8.0.1)\n",
      "Requirement already satisfied: joblib in /Users/luisazevedo/opt/anaconda3/lib/python3.8/site-packages (from contextily>=1.0.0->geoplot) (0.17.0)\n",
      "Requirement already satisfied: requests in /Users/luisazevedo/opt/anaconda3/lib/python3.8/site-packages (from contextily>=1.0.0->geoplot) (2.24.0)\n",
      "Requirement already satisfied: rasterio in /Users/luisazevedo/opt/anaconda3/lib/python3.8/site-packages (from contextily>=1.0.0->geoplot) (1.2.3)\n",
      "Requirement already satisfied: geopy in /Users/luisazevedo/opt/anaconda3/lib/python3.8/site-packages (from contextily>=1.0.0->geoplot) (2.1.0)\n",
      "Requirement already satisfied: mercantile in /Users/luisazevedo/opt/anaconda3/lib/python3.8/site-packages (from contextily>=1.0.0->geoplot) (1.2.1)\n",
      "Requirement already satisfied: pyshp>=1.1.4 in /Users/luisazevedo/opt/anaconda3/lib/python3.8/site-packages (from cartopy->geoplot) (2.1.3)\n",
      "Requirement already satisfied: six>=1.3.0 in /Users/luisazevedo/opt/anaconda3/lib/python3.8/site-packages (from cartopy->geoplot) (1.15.0)\n",
      "Requirement already satisfied: shapely>=1.5.6 in /Users/luisazevedo/opt/anaconda3/lib/python3.8/site-packages (from cartopy->geoplot) (1.7.1)\n",
      "Requirement already satisfied: setuptools>=0.7.2 in /Users/luisazevedo/opt/anaconda3/lib/python3.8/site-packages (from cartopy->geoplot) (50.3.1.post20201107)\n",
      "Requirement already satisfied: kiwisolver>=1.0.1 in /Users/luisazevedo/opt/anaconda3/lib/python3.8/site-packages (from matplotlib->geoplot) (1.3.0)\n",
      "Requirement already satisfied: cycler>=0.10 in /Users/luisazevedo/opt/anaconda3/lib/python3.8/site-packages (from matplotlib->geoplot) (0.10.0)\n",
      "Requirement already satisfied: certifi>=2020.06.20 in /Users/luisazevedo/opt/anaconda3/lib/python3.8/site-packages (from matplotlib->geoplot) (2020.6.20)\n",
      "Requirement already satisfied: pyparsing!=2.0.4,!=2.1.2,!=2.1.6,>=2.0.3 in /Users/luisazevedo/opt/anaconda3/lib/python3.8/site-packages (from matplotlib->geoplot) (2.4.7)\n",
      "Requirement already satisfied: fiona>=1.8 in /Users/luisazevedo/opt/anaconda3/lib/python3.8/site-packages (from geopandas->geoplot) (1.8.19)\n",
      "Requirement already satisfied: pyproj>=2.2.0 in /Users/luisazevedo/opt/anaconda3/lib/python3.8/site-packages (from geopandas->geoplot) (3.0.1)\n",
      "Requirement already satisfied: threadpoolctl>=2.0.0 in /Users/luisazevedo/opt/anaconda3/lib/python3.8/site-packages (from scikit-learn->mapclassify>=2.1->geoplot) (2.1.0)\n",
      "Requirement already satisfied: decorator>=4.3.0 in /Users/luisazevedo/opt/anaconda3/lib/python3.8/site-packages (from networkx->mapclassify>=2.1->geoplot) (4.4.2)\n",
      "Requirement already satisfied: idna<3,>=2.5 in /Users/luisazevedo/opt/anaconda3/lib/python3.8/site-packages (from requests->contextily>=1.0.0->geoplot) (2.10)\n",
      "Requirement already satisfied: urllib3!=1.25.0,!=1.25.1,<1.26,>=1.21.1 in /Users/luisazevedo/opt/anaconda3/lib/python3.8/site-packages (from requests->contextily>=1.0.0->geoplot) (1.25.11)\n",
      "Requirement already satisfied: chardet<4,>=3.0.2 in /Users/luisazevedo/opt/anaconda3/lib/python3.8/site-packages (from requests->contextily>=1.0.0->geoplot) (3.0.4)\n",
      "Requirement already satisfied: attrs in /Users/luisazevedo/opt/anaconda3/lib/python3.8/site-packages (from rasterio->contextily>=1.0.0->geoplot) (20.3.0)\n",
      "Requirement already satisfied: snuggs>=1.4.1 in /Users/luisazevedo/opt/anaconda3/lib/python3.8/site-packages (from rasterio->contextily>=1.0.0->geoplot) (1.4.7)\n",
      "Requirement already satisfied: affine in /Users/luisazevedo/opt/anaconda3/lib/python3.8/site-packages (from rasterio->contextily>=1.0.0->geoplot) (2.3.0)\n",
      "Requirement already satisfied: click-plugins in /Users/luisazevedo/opt/anaconda3/lib/python3.8/site-packages (from rasterio->contextily>=1.0.0->geoplot) (1.1.1)\n",
      "Requirement already satisfied: click<8,>=4.0 in /Users/luisazevedo/opt/anaconda3/lib/python3.8/site-packages (from rasterio->contextily>=1.0.0->geoplot) (7.1.2)\n",
      "Requirement already satisfied: cligj>=0.5 in /Users/luisazevedo/opt/anaconda3/lib/python3.8/site-packages (from rasterio->contextily>=1.0.0->geoplot) (0.7.1)\n",
      "Requirement already satisfied: geographiclib<2,>=1.49 in /Users/luisazevedo/opt/anaconda3/lib/python3.8/site-packages (from geopy->contextily>=1.0.0->geoplot) (1.50)\n",
      "Requirement already satisfied: munch in /Users/luisazevedo/opt/anaconda3/lib/python3.8/site-packages (from fiona>=1.8->geopandas->geoplot) (2.5.0)\n",
      "Note: you may need to restart the kernel to use updated packages.\n"
     ]
    }
   ],
   "source": [
    "pip install geoplot"
   ]
  },
  {
   "cell_type": "code",
   "execution_count": 3,
   "metadata": {},
   "outputs": [],
   "source": [
    "import geopandas\n",
    "import geoplot\n",
    "\n",
    "world = geopandas.read_file(geopandas.datasets.get_path('naturalearth_lowres'))"
   ]
  },
  {
   "cell_type": "code",
   "execution_count": 4,
   "metadata": {},
   "outputs": [
    {
     "data": {
      "text/html": [
       "<div>\n",
       "<style scoped>\n",
       "    .dataframe tbody tr th:only-of-type {\n",
       "        vertical-align: middle;\n",
       "    }\n",
       "\n",
       "    .dataframe tbody tr th {\n",
       "        vertical-align: top;\n",
       "    }\n",
       "\n",
       "    .dataframe thead th {\n",
       "        text-align: right;\n",
       "    }\n",
       "</style>\n",
       "<table border=\"1\" class=\"dataframe\">\n",
       "  <thead>\n",
       "    <tr style=\"text-align: right;\">\n",
       "      <th></th>\n",
       "      <th>pop_est</th>\n",
       "      <th>continent</th>\n",
       "      <th>name</th>\n",
       "      <th>iso_a3</th>\n",
       "      <th>gdp_md_est</th>\n",
       "      <th>geometry</th>\n",
       "    </tr>\n",
       "  </thead>\n",
       "  <tbody>\n",
       "    <tr>\n",
       "      <th>0</th>\n",
       "      <td>920938</td>\n",
       "      <td>Oceania</td>\n",
       "      <td>Fiji</td>\n",
       "      <td>FJI</td>\n",
       "      <td>8374.0</td>\n",
       "      <td>MULTIPOLYGON (((180.00000 -16.06713, 180.00000...</td>\n",
       "    </tr>\n",
       "    <tr>\n",
       "      <th>1</th>\n",
       "      <td>53950935</td>\n",
       "      <td>Africa</td>\n",
       "      <td>Tanzania</td>\n",
       "      <td>TZA</td>\n",
       "      <td>150600.0</td>\n",
       "      <td>POLYGON ((33.90371 -0.95000, 34.07262 -1.05982...</td>\n",
       "    </tr>\n",
       "    <tr>\n",
       "      <th>2</th>\n",
       "      <td>603253</td>\n",
       "      <td>Africa</td>\n",
       "      <td>W. Sahara</td>\n",
       "      <td>ESH</td>\n",
       "      <td>906.5</td>\n",
       "      <td>POLYGON ((-8.66559 27.65643, -8.66512 27.58948...</td>\n",
       "    </tr>\n",
       "    <tr>\n",
       "      <th>3</th>\n",
       "      <td>35623680</td>\n",
       "      <td>North America</td>\n",
       "      <td>Canada</td>\n",
       "      <td>CAN</td>\n",
       "      <td>1674000.0</td>\n",
       "      <td>MULTIPOLYGON (((-122.84000 49.00000, -122.9742...</td>\n",
       "    </tr>\n",
       "    <tr>\n",
       "      <th>4</th>\n",
       "      <td>326625791</td>\n",
       "      <td>North America</td>\n",
       "      <td>United States of America</td>\n",
       "      <td>USA</td>\n",
       "      <td>18560000.0</td>\n",
       "      <td>MULTIPOLYGON (((-122.84000 49.00000, -120.0000...</td>\n",
       "    </tr>\n",
       "    <tr>\n",
       "      <th>...</th>\n",
       "      <td>...</td>\n",
       "      <td>...</td>\n",
       "      <td>...</td>\n",
       "      <td>...</td>\n",
       "      <td>...</td>\n",
       "      <td>...</td>\n",
       "    </tr>\n",
       "    <tr>\n",
       "      <th>172</th>\n",
       "      <td>7111024</td>\n",
       "      <td>Europe</td>\n",
       "      <td>Serbia</td>\n",
       "      <td>SRB</td>\n",
       "      <td>101800.0</td>\n",
       "      <td>POLYGON ((18.82982 45.90887, 18.82984 45.90888...</td>\n",
       "    </tr>\n",
       "    <tr>\n",
       "      <th>173</th>\n",
       "      <td>642550</td>\n",
       "      <td>Europe</td>\n",
       "      <td>Montenegro</td>\n",
       "      <td>MNE</td>\n",
       "      <td>10610.0</td>\n",
       "      <td>POLYGON ((20.07070 42.58863, 19.80161 42.50009...</td>\n",
       "    </tr>\n",
       "    <tr>\n",
       "      <th>174</th>\n",
       "      <td>1895250</td>\n",
       "      <td>Europe</td>\n",
       "      <td>Kosovo</td>\n",
       "      <td>-99</td>\n",
       "      <td>18490.0</td>\n",
       "      <td>POLYGON ((20.59025 41.85541, 20.52295 42.21787...</td>\n",
       "    </tr>\n",
       "    <tr>\n",
       "      <th>175</th>\n",
       "      <td>1218208</td>\n",
       "      <td>North America</td>\n",
       "      <td>Trinidad and Tobago</td>\n",
       "      <td>TTO</td>\n",
       "      <td>43570.0</td>\n",
       "      <td>POLYGON ((-61.68000 10.76000, -61.10500 10.890...</td>\n",
       "    </tr>\n",
       "    <tr>\n",
       "      <th>176</th>\n",
       "      <td>13026129</td>\n",
       "      <td>Africa</td>\n",
       "      <td>S. Sudan</td>\n",
       "      <td>SSD</td>\n",
       "      <td>20880.0</td>\n",
       "      <td>POLYGON ((30.83385 3.50917, 29.95350 4.17370, ...</td>\n",
       "    </tr>\n",
       "  </tbody>\n",
       "</table>\n",
       "<p>177 rows × 6 columns</p>\n",
       "</div>"
      ],
      "text/plain": [
       "       pop_est      continent                      name iso_a3  gdp_md_est  \\\n",
       "0       920938        Oceania                      Fiji    FJI      8374.0   \n",
       "1     53950935         Africa                  Tanzania    TZA    150600.0   \n",
       "2       603253         Africa                 W. Sahara    ESH       906.5   \n",
       "3     35623680  North America                    Canada    CAN   1674000.0   \n",
       "4    326625791  North America  United States of America    USA  18560000.0   \n",
       "..         ...            ...                       ...    ...         ...   \n",
       "172    7111024         Europe                    Serbia    SRB    101800.0   \n",
       "173     642550         Europe                Montenegro    MNE     10610.0   \n",
       "174    1895250         Europe                    Kosovo    -99     18490.0   \n",
       "175    1218208  North America       Trinidad and Tobago    TTO     43570.0   \n",
       "176   13026129         Africa                  S. Sudan    SSD     20880.0   \n",
       "\n",
       "                                              geometry  \n",
       "0    MULTIPOLYGON (((180.00000 -16.06713, 180.00000...  \n",
       "1    POLYGON ((33.90371 -0.95000, 34.07262 -1.05982...  \n",
       "2    POLYGON ((-8.66559 27.65643, -8.66512 27.58948...  \n",
       "3    MULTIPOLYGON (((-122.84000 49.00000, -122.9742...  \n",
       "4    MULTIPOLYGON (((-122.84000 49.00000, -120.0000...  \n",
       "..                                                 ...  \n",
       "172  POLYGON ((18.82982 45.90887, 18.82984 45.90888...  \n",
       "173  POLYGON ((20.07070 42.58863, 19.80161 42.50009...  \n",
       "174  POLYGON ((20.59025 41.85541, 20.52295 42.21787...  \n",
       "175  POLYGON ((-61.68000 10.76000, -61.10500 10.890...  \n",
       "176  POLYGON ((30.83385 3.50917, 29.95350 4.17370, ...  \n",
       "\n",
       "[177 rows x 6 columns]"
      ]
     },
     "execution_count": 4,
     "metadata": {},
     "output_type": "execute_result"
    }
   ],
   "source": [
    "world"
   ]
  },
  {
   "cell_type": "code",
   "execution_count": 22,
   "metadata": {},
   "outputs": [
    {
     "name": "stdout",
     "output_type": "stream",
     "text": [
      "Collecting geopandas\n",
      "  Using cached geopandas-0.9.0-py2.py3-none-any.whl (994 kB)\n",
      "Requirement already satisfied: shapely>=1.6 in /Users/luisazevedo/opt/anaconda3/lib/python3.8/site-packages (from geopandas) (1.7.1)\n",
      "Requirement already satisfied: pyproj>=2.2.0 in /Users/luisazevedo/opt/anaconda3/lib/python3.8/site-packages (from geopandas) (3.0.1)\n",
      "Requirement already satisfied: fiona>=1.8 in /Users/luisazevedo/opt/anaconda3/lib/python3.8/site-packages (from geopandas) (1.8.19)\n",
      "Requirement already satisfied: pandas>=0.24.0 in /Users/luisazevedo/opt/anaconda3/lib/python3.8/site-packages (from geopandas) (1.1.3)\n",
      "Requirement already satisfied: certifi in /Users/luisazevedo/opt/anaconda3/lib/python3.8/site-packages (from pyproj>=2.2.0->geopandas) (2020.6.20)\n",
      "Requirement already satisfied: attrs>=17 in /Users/luisazevedo/opt/anaconda3/lib/python3.8/site-packages (from fiona>=1.8->geopandas) (20.3.0)\n",
      "Requirement already satisfied: munch in /Users/luisazevedo/opt/anaconda3/lib/python3.8/site-packages (from fiona>=1.8->geopandas) (2.5.0)\n",
      "Requirement already satisfied: cligj>=0.5 in /Users/luisazevedo/opt/anaconda3/lib/python3.8/site-packages (from fiona>=1.8->geopandas) (0.7.1)\n",
      "Requirement already satisfied: click-plugins>=1.0 in /Users/luisazevedo/opt/anaconda3/lib/python3.8/site-packages (from fiona>=1.8->geopandas) (1.1.1)\n",
      "Requirement already satisfied: six>=1.7 in /Users/luisazevedo/opt/anaconda3/lib/python3.8/site-packages (from fiona>=1.8->geopandas) (1.15.0)\n",
      "Requirement already satisfied: click<8,>=4.0 in /Users/luisazevedo/opt/anaconda3/lib/python3.8/site-packages (from fiona>=1.8->geopandas) (7.1.2)\n",
      "Requirement already satisfied: pytz>=2017.2 in /Users/luisazevedo/opt/anaconda3/lib/python3.8/site-packages (from pandas>=0.24.0->geopandas) (2020.1)\n",
      "Requirement already satisfied: python-dateutil>=2.7.3 in /Users/luisazevedo/opt/anaconda3/lib/python3.8/site-packages (from pandas>=0.24.0->geopandas) (2.8.1)\n",
      "Requirement already satisfied: numpy>=1.15.4 in /Users/luisazevedo/opt/anaconda3/lib/python3.8/site-packages (from pandas>=0.24.0->geopandas) (1.19.2)\n",
      "Installing collected packages: geopandas\n",
      "Successfully installed geopandas-0.9.0\n",
      "Note: you may need to restart the kernel to use updated packages.\n"
     ]
    }
   ],
   "source": [
    "pip install geopandas"
   ]
  }
 ],
 "metadata": {
  "kernelspec": {
   "display_name": "Python 3",
   "language": "python",
   "name": "python3"
  },
  "language_info": {
   "codemirror_mode": {
    "name": "ipython",
    "version": 3
   },
   "file_extension": ".py",
   "mimetype": "text/x-python",
   "name": "python",
   "nbconvert_exporter": "python",
   "pygments_lexer": "ipython3",
   "version": "3.8.5"
  }
 },
 "nbformat": 4,
 "nbformat_minor": 4
}
