{
 "cells": [
  {
   "cell_type": "markdown",
   "metadata": {},
   "source": [
    "### Work and Health\n",
    "1. Importing the data and building the data-frames\n",
    "2. data exploration\n",
    "    1. basic exploration\n",
    "    2. statistical exploration\n",
    "    3. visual exploration\n",
    "3. Pre-processing\n",
    "    1. Data Cleaning\n",
    "    2. Outliers\n",
    "    3. Missing Values\n",
    "    4. Feature Engineering\n",
    "    5. In-depth exploration\n",
    "    6. Data transformation\n",
    "    "
   ]
  },
  {
   "cell_type": "markdown",
   "metadata": {},
   "source": [
    "### Importing the data, libraries and working on the data-frames"
   ]
  },
  {
   "cell_type": "code",
   "execution_count": 1,
   "metadata": {},
   "outputs": [],
   "source": [
    "#Import the basic libraries\n",
    "import pandas as pd \n",
    "import numpy as np \n",
    "import matplotlib.pyplot as plt\n",
    "import seaborn as sns"
   ]
  },
  {
   "cell_type": "code",
   "execution_count": 4,
   "metadata": {},
   "outputs": [],
   "source": [
    "#Import the data\n",
    "\n",
    "df_diseases = pd.read_csv('/Users/luisazevedo/Documents/GitHub/PfDS---Work-Health/raw data/Diseases_GHDx/IHME-GBD_2019_DATA-571888e5-1.csv')\n",
    "df_employment = pd.read_csv('/Users/luisazevedo/Documents/GitHub/PfDS---Work-Health/raw data/Employment_WB/Employment_WB.csv')\n",
    "df_health_cost = pd.read_csv('/Users/luisazevedo/Documents/GitHub/PfDS---Work-Health/raw data/Health_expenditure_WB/Health_expenditure_WB.csv')\n",
    "df_gpd = pd.read_csv('/Users/luisazevedo/Documents/GitHub/PfDS---Work-Health/raw data/GPD_WB/GPD_WB.csv')"
   ]
  },
  {
   "cell_type": "code",
   "execution_count": 8,
   "metadata": {},
   "outputs": [
    {
     "name": "stdout",
     "output_type": "stream",
     "text": [
      "<class 'pandas.core.frame.DataFrame'>\n",
      "RangeIndex: 168120 entries, 0 to 168119\n",
      "Data columns (total 16 columns):\n",
      " #   Column         Non-Null Count   Dtype  \n",
      "---  ------         --------------   -----  \n",
      " 0   measure_id     168120 non-null  int64  \n",
      " 1   measure_name   168120 non-null  object \n",
      " 2   location_id    168120 non-null  int64  \n",
      " 3   location_name  168120 non-null  object \n",
      " 4   sex_id         168120 non-null  int64  \n",
      " 5   sex_name       168120 non-null  object \n",
      " 6   age_id         168120 non-null  int64  \n",
      " 7   age_name       168120 non-null  object \n",
      " 8   cause_id       168120 non-null  int64  \n",
      " 9   cause_name     168120 non-null  object \n",
      " 10  metric_id      168120 non-null  int64  \n",
      " 11  metric_name    168120 non-null  object \n",
      " 12  year           168120 non-null  int64  \n",
      " 13  val            168120 non-null  float64\n",
      " 14  upper          168120 non-null  float64\n",
      " 15  lower          168120 non-null  float64\n",
      "dtypes: float64(3), int64(7), object(6)\n",
      "memory usage: 20.5+ MB\n"
     ]
    }
   ],
   "source": [
    "df_diseases.info()"
   ]
  },
  {
   "cell_type": "code",
   "execution_count": 9,
   "metadata": {},
   "outputs": [
    {
     "name": "stdout",
     "output_type": "stream",
     "text": [
      "<class 'pandas.core.frame.DataFrame'>\n",
      "RangeIndex: 3173 entries, 0 to 3172\n",
      "Data columns (total 25 columns):\n",
      " #   Column         Non-Null Count  Dtype \n",
      "---  ------         --------------  ----- \n",
      " 0   Series Name    3170 non-null   object\n",
      " 1   Series Code    3168 non-null   object\n",
      " 2   Country Name   3168 non-null   object\n",
      " 3   Country Code   3168 non-null   object\n",
      " 4   2000 [YR2000]  3168 non-null   object\n",
      " 5   2001 [YR2001]  3168 non-null   object\n",
      " 6   2002 [YR2002]  3168 non-null   object\n",
      " 7   2003 [YR2003]  3168 non-null   object\n",
      " 8   2004 [YR2004]  3168 non-null   object\n",
      " 9   2005 [YR2005]  3168 non-null   object\n",
      " 10  2006 [YR2006]  3168 non-null   object\n",
      " 11  2007 [YR2007]  3168 non-null   object\n",
      " 12  2008 [YR2008]  3168 non-null   object\n",
      " 13  2009 [YR2009]  3168 non-null   object\n",
      " 14  2010 [YR2010]  3168 non-null   object\n",
      " 15  2011 [YR2011]  3168 non-null   object\n",
      " 16  2012 [YR2012]  3168 non-null   object\n",
      " 17  2013 [YR2013]  3168 non-null   object\n",
      " 18  2014 [YR2014]  3168 non-null   object\n",
      " 19  2015 [YR2015]  3168 non-null   object\n",
      " 20  2016 [YR2016]  3168 non-null   object\n",
      " 21  2017 [YR2017]  3168 non-null   object\n",
      " 22  2018 [YR2018]  3168 non-null   object\n",
      " 23  2019 [YR2019]  3168 non-null   object\n",
      " 24  2020 [YR2020]  3168 non-null   object\n",
      "dtypes: object(25)\n",
      "memory usage: 619.9+ KB\n"
     ]
    }
   ],
   "source": [
    "df_employment.info()"
   ]
  },
  {
   "cell_type": "code",
   "execution_count": 10,
   "metadata": {},
   "outputs": [
    {
     "name": "stdout",
     "output_type": "stream",
     "text": [
      "<class 'pandas.core.frame.DataFrame'>\n",
      "RangeIndex: 533 entries, 0 to 532\n",
      "Data columns (total 25 columns):\n",
      " #   Column         Non-Null Count  Dtype \n",
      "---  ------         --------------  ----- \n",
      " 0   Series Name    530 non-null    object\n",
      " 1   Series Code    528 non-null    object\n",
      " 2   Country Name   528 non-null    object\n",
      " 3   Country Code   528 non-null    object\n",
      " 4   2000 [YR2000]  528 non-null    object\n",
      " 5   2001 [YR2001]  528 non-null    object\n",
      " 6   2002 [YR2002]  528 non-null    object\n",
      " 7   2003 [YR2003]  528 non-null    object\n",
      " 8   2004 [YR2004]  528 non-null    object\n",
      " 9   2005 [YR2005]  528 non-null    object\n",
      " 10  2006 [YR2006]  528 non-null    object\n",
      " 11  2007 [YR2007]  528 non-null    object\n",
      " 12  2008 [YR2008]  528 non-null    object\n",
      " 13  2009 [YR2009]  528 non-null    object\n",
      " 14  2010 [YR2010]  528 non-null    object\n",
      " 15  2011 [YR2011]  528 non-null    object\n",
      " 16  2012 [YR2012]  528 non-null    object\n",
      " 17  2013 [YR2013]  528 non-null    object\n",
      " 18  2014 [YR2014]  528 non-null    object\n",
      " 19  2015 [YR2015]  528 non-null    object\n",
      " 20  2016 [YR2016]  528 non-null    object\n",
      " 21  2017 [YR2017]  528 non-null    object\n",
      " 22  2018 [YR2018]  528 non-null    object\n",
      " 23  2019 [YR2019]  528 non-null    object\n",
      " 24  2020 [YR2020]  528 non-null    object\n",
      "dtypes: object(25)\n",
      "memory usage: 104.2+ KB\n"
     ]
    }
   ],
   "source": [
    "df_health_cost.info()"
   ]
  },
  {
   "cell_type": "code",
   "execution_count": 11,
   "metadata": {},
   "outputs": [
    {
     "name": "stdout",
     "output_type": "stream",
     "text": [
      "<class 'pandas.core.frame.DataFrame'>\n",
      "RangeIndex: 269 entries, 0 to 268\n",
      "Data columns (total 25 columns):\n",
      " #   Column         Non-Null Count  Dtype \n",
      "---  ------         --------------  ----- \n",
      " 0   Series Name    266 non-null    object\n",
      " 1   Series Code    264 non-null    object\n",
      " 2   Country Name   264 non-null    object\n",
      " 3   Country Code   264 non-null    object\n",
      " 4   2000 [YR2000]  264 non-null    object\n",
      " 5   2001 [YR2001]  264 non-null    object\n",
      " 6   2002 [YR2002]  264 non-null    object\n",
      " 7   2003 [YR2003]  264 non-null    object\n",
      " 8   2004 [YR2004]  264 non-null    object\n",
      " 9   2005 [YR2005]  264 non-null    object\n",
      " 10  2006 [YR2006]  264 non-null    object\n",
      " 11  2007 [YR2007]  264 non-null    object\n",
      " 12  2008 [YR2008]  264 non-null    object\n",
      " 13  2009 [YR2009]  264 non-null    object\n",
      " 14  2010 [YR2010]  264 non-null    object\n",
      " 15  2011 [YR2011]  264 non-null    object\n",
      " 16  2012 [YR2012]  264 non-null    object\n",
      " 17  2013 [YR2013]  264 non-null    object\n",
      " 18  2014 [YR2014]  264 non-null    object\n",
      " 19  2015 [YR2015]  264 non-null    object\n",
      " 20  2016 [YR2016]  264 non-null    object\n",
      " 21  2017 [YR2017]  264 non-null    object\n",
      " 22  2018 [YR2018]  264 non-null    object\n",
      " 23  2019 [YR2019]  264 non-null    object\n",
      " 24  2020 [YR2020]  264 non-null    object\n",
      "dtypes: object(25)\n",
      "memory usage: 52.7+ KB\n"
     ]
    }
   ],
   "source": [
    "df_gpd.info()"
   ]
  }
 ],
 "metadata": {
  "kernelspec": {
   "display_name": "Python 3",
   "language": "python",
   "name": "python3"
  },
  "language_info": {
   "codemirror_mode": {
    "name": "ipython",
    "version": 3
   },
   "file_extension": ".py",
   "mimetype": "text/x-python",
   "name": "python",
   "nbconvert_exporter": "python",
   "pygments_lexer": "ipython3",
   "version": "3.8.5"
  }
 },
 "nbformat": 4,
 "nbformat_minor": 4
}
