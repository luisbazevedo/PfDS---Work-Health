{
 "cells": [
  {
   "cell_type": "code",
   "execution_count": 177,
   "metadata": {
    "ExecuteTime": {
     "end_time": "2021-04-26T22:56:22.326809Z",
     "start_time": "2021-04-26T22:56:22.312906Z"
    }
   },
   "outputs": [],
   "source": [
    "#Import the basic libraries\n",
    "import pandas as pd\n",
    "import numpy as np\n",
    "import matplotlib.pyplot as plt\n",
    "import seaborn as sns\n",
    "import math\n",
    "\n",
    "sns.set_style(\"white\")\n",
    "sns.color_palette('Set2')\n",
    "sns.set_context({\"figure.figsize\": (18, 5)})\n",
    "\n",
    "# remove warnings\n",
    "import warnings\n",
    "warnings.filterwarnings(\"ignore\",category=plt.cbook.mplDeprecation)\n",
    "warnings.filterwarnings(\"ignore\",category=FutureWarning)\n",
    "\n"
   ]
  },
  {
   "cell_type": "markdown",
   "metadata": {},
   "source": [
    "### Helper Functions"
   ]
  },
  {
   "cell_type": "code",
   "execution_count": 2,
   "metadata": {
    "ExecuteTime": {
     "end_time": "2021-04-26T21:01:59.849311Z",
     "start_time": "2021-04-26T21:01:59.840241Z"
    },
    "collapsed": true
   },
   "outputs": [],
   "source": [
    "def print_categorical_indexes(df):\n",
    "    print(\"================================================\")\n",
    "    print(f\"Categorical Unique Values\")\n",
    "    \n",
    "    dtypes = df.dtypes\n",
    "\n",
    "    for index in dtypes.index:\n",
    "        if dtypes[index] == 'object':\n",
    "            print(\"----------------------------------------\")\n",
    "            print(f\"{index}\")\n",
    "            print(df[index].unique())\n",
    "            print(\"\")\n",
    "            print(\"\")"
   ]
  },
  {
   "cell_type": "markdown",
   "metadata": {},
   "source": [
    "### Global"
   ]
  },
  {
   "cell_type": "code",
   "execution_count": 143,
   "metadata": {
    "ExecuteTime": {
     "end_time": "2021-04-26T22:24:58.019233Z",
     "start_time": "2021-04-26T22:24:58.014813Z"
    },
    "collapsed": true
   },
   "outputs": [],
   "source": [
    "years_list = list(range(2005, 2016))\n",
    "countries_list = ['Poland', 'Portugal', 'France', 'Spain', 'Germany', 'Switzerland' 'United Kingdom', \n",
    "                  'Ireland', 'Sweden', 'Luxembourg', 'Finland', 'Denmark', 'Netherlands', 'Hungary', 'Croatia', 'Greece', 'Romania'\n",
    "                 ]"
   ]
  },
  {
   "cell_type": "markdown",
   "metadata": {
    "ExecuteTime": {
     "end_time": "2021-04-26T18:44:47.321889Z",
     "start_time": "2021-04-26T18:44:47.313663Z"
    }
   },
   "source": [
    "### Diseases"
   ]
  },
  {
   "cell_type": "markdown",
   "metadata": {},
   "source": [
    "#### Load and Explore"
   ]
  },
  {
   "cell_type": "code",
   "execution_count": 3,
   "metadata": {
    "ExecuteTime": {
     "end_time": "2021-04-26T21:02:01.540413Z",
     "start_time": "2021-04-26T21:02:01.209553Z"
    }
   },
   "outputs": [
    {
     "data": {
      "text/html": [
       "<div>\n",
       "<style scoped>\n",
       "    .dataframe tbody tr th:only-of-type {\n",
       "        vertical-align: middle;\n",
       "    }\n",
       "\n",
       "    .dataframe tbody tr th {\n",
       "        vertical-align: top;\n",
       "    }\n",
       "\n",
       "    .dataframe thead th {\n",
       "        text-align: right;\n",
       "    }\n",
       "</style>\n",
       "<table border=\"1\" class=\"dataframe\">\n",
       "  <thead>\n",
       "    <tr style=\"text-align: right;\">\n",
       "      <th></th>\n",
       "      <th>measure_id</th>\n",
       "      <th>measure_name</th>\n",
       "      <th>location_id</th>\n",
       "      <th>location_name</th>\n",
       "      <th>sex_id</th>\n",
       "      <th>sex_name</th>\n",
       "      <th>age_id</th>\n",
       "      <th>age_name</th>\n",
       "      <th>cause_id</th>\n",
       "      <th>cause_name</th>\n",
       "      <th>metric_id</th>\n",
       "      <th>metric_name</th>\n",
       "      <th>year</th>\n",
       "      <th>val</th>\n",
       "      <th>upper</th>\n",
       "      <th>lower</th>\n",
       "    </tr>\n",
       "  </thead>\n",
       "  <tbody>\n",
       "    <tr>\n",
       "      <th>0</th>\n",
       "      <td>6</td>\n",
       "      <td>Incidence</td>\n",
       "      <td>37</td>\n",
       "      <td>Kyrgyzstan</td>\n",
       "      <td>1</td>\n",
       "      <td>Male</td>\n",
       "      <td>22</td>\n",
       "      <td>All Ages</td>\n",
       "      <td>972</td>\n",
       "      <td>Headache disorders</td>\n",
       "      <td>1</td>\n",
       "      <td>Number</td>\n",
       "      <td>2000</td>\n",
       "      <td>284784.143493</td>\n",
       "      <td>320214.245491</td>\n",
       "      <td>248249.750099</td>\n",
       "    </tr>\n",
       "    <tr>\n",
       "      <th>1</th>\n",
       "      <td>6</td>\n",
       "      <td>Incidence</td>\n",
       "      <td>37</td>\n",
       "      <td>Kyrgyzstan</td>\n",
       "      <td>2</td>\n",
       "      <td>Female</td>\n",
       "      <td>22</td>\n",
       "      <td>All Ages</td>\n",
       "      <td>972</td>\n",
       "      <td>Headache disorders</td>\n",
       "      <td>1</td>\n",
       "      <td>Number</td>\n",
       "      <td>2000</td>\n",
       "      <td>318105.445247</td>\n",
       "      <td>355938.066073</td>\n",
       "      <td>279634.680100</td>\n",
       "    </tr>\n",
       "    <tr>\n",
       "      <th>2</th>\n",
       "      <td>6</td>\n",
       "      <td>Incidence</td>\n",
       "      <td>37</td>\n",
       "      <td>Kyrgyzstan</td>\n",
       "      <td>3</td>\n",
       "      <td>Both</td>\n",
       "      <td>22</td>\n",
       "      <td>All Ages</td>\n",
       "      <td>972</td>\n",
       "      <td>Headache disorders</td>\n",
       "      <td>1</td>\n",
       "      <td>Number</td>\n",
       "      <td>2000</td>\n",
       "      <td>602889.588740</td>\n",
       "      <td>674753.218721</td>\n",
       "      <td>528186.360431</td>\n",
       "    </tr>\n",
       "    <tr>\n",
       "      <th>3</th>\n",
       "      <td>6</td>\n",
       "      <td>Incidence</td>\n",
       "      <td>37</td>\n",
       "      <td>Kyrgyzstan</td>\n",
       "      <td>1</td>\n",
       "      <td>Male</td>\n",
       "      <td>22</td>\n",
       "      <td>All Ages</td>\n",
       "      <td>972</td>\n",
       "      <td>Headache disorders</td>\n",
       "      <td>2</td>\n",
       "      <td>Percent</td>\n",
       "      <td>2000</td>\n",
       "      <td>0.028188</td>\n",
       "      <td>0.032116</td>\n",
       "      <td>0.024244</td>\n",
       "    </tr>\n",
       "    <tr>\n",
       "      <th>4</th>\n",
       "      <td>6</td>\n",
       "      <td>Incidence</td>\n",
       "      <td>37</td>\n",
       "      <td>Kyrgyzstan</td>\n",
       "      <td>2</td>\n",
       "      <td>Female</td>\n",
       "      <td>22</td>\n",
       "      <td>All Ages</td>\n",
       "      <td>972</td>\n",
       "      <td>Headache disorders</td>\n",
       "      <td>2</td>\n",
       "      <td>Percent</td>\n",
       "      <td>2000</td>\n",
       "      <td>0.030881</td>\n",
       "      <td>0.034716</td>\n",
       "      <td>0.026976</td>\n",
       "    </tr>\n",
       "  </tbody>\n",
       "</table>\n",
       "</div>"
      ],
      "text/plain": [
       "   measure_id measure_name  location_id location_name  sex_id sex_name  \\\n",
       "0           6    Incidence           37    Kyrgyzstan       1     Male   \n",
       "1           6    Incidence           37    Kyrgyzstan       2   Female   \n",
       "2           6    Incidence           37    Kyrgyzstan       3     Both   \n",
       "3           6    Incidence           37    Kyrgyzstan       1     Male   \n",
       "4           6    Incidence           37    Kyrgyzstan       2   Female   \n",
       "\n",
       "   age_id  age_name  cause_id          cause_name  metric_id metric_name  \\\n",
       "0      22  All Ages       972  Headache disorders          1      Number   \n",
       "1      22  All Ages       972  Headache disorders          1      Number   \n",
       "2      22  All Ages       972  Headache disorders          1      Number   \n",
       "3      22  All Ages       972  Headache disorders          2     Percent   \n",
       "4      22  All Ages       972  Headache disorders          2     Percent   \n",
       "\n",
       "   year            val          upper          lower  \n",
       "0  2000  284784.143493  320214.245491  248249.750099  \n",
       "1  2000  318105.445247  355938.066073  279634.680100  \n",
       "2  2000  602889.588740  674753.218721  528186.360431  \n",
       "3  2000       0.028188       0.032116       0.024244  \n",
       "4  2000       0.030881       0.034716       0.026976  "
      ]
     },
     "execution_count": 3,
     "metadata": {},
     "output_type": "execute_result"
    }
   ],
   "source": [
    "df_diseases_raw = pd.read_csv('../raw data/Diseases_GHDx/IHME-GBD_2019_DATA-571888e5-1.csv')\n",
    "df_diseases_raw.head()"
   ]
  },
  {
   "cell_type": "code",
   "execution_count": 4,
   "metadata": {
    "ExecuteTime": {
     "end_time": "2021-04-26T21:02:01.603368Z",
     "start_time": "2021-04-26T21:02:01.561316Z"
    }
   },
   "outputs": [
    {
     "name": "stdout",
     "output_type": "stream",
     "text": [
      "Index(['measure_id', 'measure_name', 'location_id', 'location_name', 'sex_id',\n",
      "       'sex_name', 'age_id', 'age_name', 'cause_id', 'cause_name', 'metric_id',\n",
      "       'metric_name', 'year', 'val', 'upper', 'lower'],\n",
      "      dtype='object')\n",
      "<class 'pandas.core.frame.DataFrame'>\n",
      "RangeIndex: 168120 entries, 0 to 168119\n",
      "Data columns (total 16 columns):\n",
      "measure_id       168120 non-null int64\n",
      "measure_name     168120 non-null object\n",
      "location_id      168120 non-null int64\n",
      "location_name    168120 non-null object\n",
      "sex_id           168120 non-null int64\n",
      "sex_name         168120 non-null object\n",
      "age_id           168120 non-null int64\n",
      "age_name         168120 non-null object\n",
      "cause_id         168120 non-null int64\n",
      "cause_name       168120 non-null object\n",
      "metric_id        168120 non-null int64\n",
      "metric_name      168120 non-null object\n",
      "year             168120 non-null int64\n",
      "val              168120 non-null float64\n",
      "upper            168120 non-null float64\n",
      "lower            168120 non-null float64\n",
      "dtypes: float64(3), int64(7), object(6)\n",
      "memory usage: 20.5+ MB\n"
     ]
    }
   ],
   "source": [
    "print(df_diseases_raw.columns)\n",
    "df_diseases_raw.info()"
   ]
  },
  {
   "cell_type": "code",
   "execution_count": 5,
   "metadata": {
    "ExecuteTime": {
     "end_time": "2021-04-26T21:02:02.056266Z",
     "start_time": "2021-04-26T21:02:02.004988Z"
    }
   },
   "outputs": [
    {
     "name": "stdout",
     "output_type": "stream",
     "text": [
      "================================================\n",
      "Categorical Unique Values\n",
      "----------------------------------------\n",
      "measure_name\n",
      "['Incidence']\n",
      "\n",
      "\n",
      "----------------------------------------\n",
      "location_name\n",
      "['Kyrgyzstan' 'Brazil' 'Uzbekistan' 'China' 'Mauritius' 'Tajikistan'\n",
      " 'Turkmenistan' 'Chile' 'Democratic Republic of the Congo' 'Andorra'\n",
      " 'Albania' 'Taiwan (Province of China)' 'Nauru' 'South Africa'\n",
      " \"Democratic People's Republic of Korea\" 'Mongolia' 'Eswatini' 'Malaysia'\n",
      " 'Bosnia and Herzegovina' 'Zimbabwe' 'American Samoa' 'Bulgaria'\n",
      " 'Cambodia' 'Indonesia' 'Croatia' 'Benin' 'Burkina Faso' 'Guinea-Bissau'\n",
      " \"Lao People's Democratic Republic\" 'Czechia' 'Cameroon' 'Dominica'\n",
      " 'Cabo Verde' 'Hungary' 'Russian Federation' 'Ukraine' 'Chad'\n",
      " 'North Macedonia' 'Timor-Leste' 'Pakistan' 'Afghanistan' \"Côte d'Ivoire\"\n",
      " 'Micronesia (Federated States of)' 'Djibouti' 'Sudan' 'Papua New Guinea'\n",
      " 'Gambia' 'Sao Tome and Principe' 'Japan' 'France' 'Armenia' 'Samoa'\n",
      " 'Ghana' 'Mozambique' 'Stockholm' 'Montenegro' 'Solomon Islands' 'Guinea'\n",
      " 'Saint Lucia' 'Australia' 'New Zealand' 'Syrian Arab Republic' 'Bahrain'\n",
      " 'Tonga' 'Vanuatu' 'Belarus' 'Poland' 'Maldives' 'Myanmar' 'Azerbaijan'\n",
      " 'Equatorial Guinea' 'Liberia' 'Georgia' 'Uganda' 'Mali' 'Kazakhstan'\n",
      " 'Rwanda' 'Gabon' 'Sri Lanka' 'Mauritania' 'Thailand' 'Burundi' 'Niger'\n",
      " 'Nigeria' 'Comoros' 'Viet Nam' 'Italy' 'Ecuador' 'Eritrea' 'Algeria'\n",
      " 'Ethiopia' 'Sierra Leone' 'Fiji' 'Togo' 'Kenya' 'Kiribati'\n",
      " 'Marshall Islands' 'Germany' 'Luxembourg' 'Egypt' 'Lebanon' 'Madagascar'\n",
      " 'Spain' 'Peru' 'Zambia' 'Malawi' 'Switzerland' 'United Kingdom'\n",
      " 'Argentina' 'Namibia' 'Seychelles' 'Guatemala' 'San Marino' 'Uruguay'\n",
      " 'Canada' 'Bermuda' 'Honduras' 'Botswana' 'Iran (Islamic Republic of)'\n",
      " 'Grenada' 'United States of America' 'Philippines' 'Mexico' 'Somalia'\n",
      " 'Bhutan' 'Sweden' 'Dominican Republic' 'Lesotho' 'Bangladesh' 'Greece'\n",
      " 'Austria' 'Iceland' 'Saint Vincent and the Grenadines' 'Libya'\n",
      " 'Cook Islands' 'Morocco' 'Tokelau' 'Netherlands' 'Greenland' 'Suriname'\n",
      " 'Guyana' 'United Republic of Tanzania' 'India' 'Colombia'\n",
      " 'Antigua and Barbuda' 'Iraq' 'Trinidad and Tobago' 'Palestine' 'Norway'\n",
      " 'Romania' 'Ireland' 'Bolivia (Plurinational State of)' 'Tunisia'\n",
      " 'Bahamas' 'Haiti' 'Serbia' 'Guam' 'Tuvalu' 'Portugal' 'Barbados'\n",
      " 'Slovakia' 'Turkey' 'Nepal' 'Oman' 'Costa Rica' 'Jordan' 'Slovenia'\n",
      " 'Israel' 'Jamaica' 'Angola' 'South Sudan' 'Belize' 'Estonia'\n",
      " 'El Salvador' 'Latvia' 'United Arab Emirates' 'Kuwait'\n",
      " 'United States Virgin Islands' 'Cuba' 'Central African Republic' 'Qatar'\n",
      " 'Lithuania' 'Yemen' 'Republic of Moldova' 'Monaco' 'Belgium'\n",
      " 'Saudi Arabia' 'Congo' 'Malta' 'Niue' 'Northern Mariana Islands'\n",
      " 'Puerto Rico' 'Palau' 'Saint Kitts and Nevis' 'Cyprus' 'Denmark'\n",
      " 'Finland']\n",
      "\n",
      "\n",
      "----------------------------------------\n",
      "sex_name\n",
      "['Male' 'Female' 'Both']\n",
      "\n",
      "\n",
      "----------------------------------------\n",
      "age_name\n",
      "['All Ages']\n",
      "\n",
      "\n",
      "----------------------------------------\n",
      "cause_name\n",
      "['Headache disorders' 'Stroke' 'Hypertensive heart disease' 'Dermatitis'\n",
      " 'Musculoskeletal disorders' 'Bipolar disorder' 'Anxiety disorders'\n",
      " 'Depressive disorders']\n",
      "\n",
      "\n",
      "----------------------------------------\n",
      "metric_name\n",
      "['Number' 'Percent']\n",
      "\n",
      "\n",
      "[2000 2001 2002 2003 2004 2005 2006 2007 2008 2009 2010 2011 2012 2013\n",
      " 2014 2015 2016 2017 2018 2019]\n"
     ]
    }
   ],
   "source": [
    "#  Categorical\n",
    "print_categorical_indexes(df_diseases_raw)\n",
    "\n",
    "# Year\n",
    "print(df_diseases_raw[\"year\"].unique())\n"
   ]
  },
  {
   "cell_type": "code",
   "execution_count": null,
   "metadata": {
    "ExecuteTime": {
     "end_time": "2021-04-26T18:55:04.296084Z",
     "start_time": "2021-04-26T18:55:04.281473Z"
    },
    "collapsed": true
   },
   "outputs": [],
   "source": []
  },
  {
   "cell_type": "markdown",
   "metadata": {},
   "source": [
    "#### Clean \n",
    "\n",
    "- Subset\n",
    "- Keep only Male and Female\n",
    "- Keep only by number and val\n",
    "- remove val decimals"
   ]
  },
  {
   "cell_type": "code",
   "execution_count": 192,
   "metadata": {
    "ExecuteTime": {
     "end_time": "2021-04-26T23:00:07.399318Z",
     "start_time": "2021-04-26T23:00:07.311716Z"
    }
   },
   "outputs": [
    {
     "data": {
      "text/html": [
       "<div>\n",
       "<style scoped>\n",
       "    .dataframe tbody tr th:only-of-type {\n",
       "        vertical-align: middle;\n",
       "    }\n",
       "\n",
       "    .dataframe tbody tr th {\n",
       "        vertical-align: top;\n",
       "    }\n",
       "\n",
       "    .dataframe thead th {\n",
       "        text-align: right;\n",
       "    }\n",
       "</style>\n",
       "<table border=\"1\" class=\"dataframe\">\n",
       "  <thead>\n",
       "    <tr style=\"text-align: right;\">\n",
       "      <th></th>\n",
       "      <th>location_name</th>\n",
       "      <th>sex_name</th>\n",
       "      <th>cause_name</th>\n",
       "      <th>metric_name</th>\n",
       "      <th>year</th>\n",
       "      <th>val</th>\n",
       "    </tr>\n",
       "  </thead>\n",
       "  <tbody>\n",
       "    <tr>\n",
       "      <th>17958</th>\n",
       "      <td>Spain</td>\n",
       "      <td>Male</td>\n",
       "      <td>Stroke</td>\n",
       "      <td>Number</td>\n",
       "      <td>2005</td>\n",
       "      <td>27165</td>\n",
       "    </tr>\n",
       "    <tr>\n",
       "      <th>17959</th>\n",
       "      <td>Spain</td>\n",
       "      <td>Female</td>\n",
       "      <td>Stroke</td>\n",
       "      <td>Number</td>\n",
       "      <td>2005</td>\n",
       "      <td>36671</td>\n",
       "    </tr>\n",
       "    <tr>\n",
       "      <th>19494</th>\n",
       "      <td>Croatia</td>\n",
       "      <td>Male</td>\n",
       "      <td>Headache disorders</td>\n",
       "      <td>Number</td>\n",
       "      <td>2005</td>\n",
       "      <td>239463</td>\n",
       "    </tr>\n",
       "    <tr>\n",
       "      <th>19495</th>\n",
       "      <td>Croatia</td>\n",
       "      <td>Female</td>\n",
       "      <td>Headache disorders</td>\n",
       "      <td>Number</td>\n",
       "      <td>2005</td>\n",
       "      <td>291511</td>\n",
       "    </tr>\n",
       "    <tr>\n",
       "      <th>19728</th>\n",
       "      <td>Hungary</td>\n",
       "      <td>Male</td>\n",
       "      <td>Dermatitis</td>\n",
       "      <td>Number</td>\n",
       "      <td>2005</td>\n",
       "      <td>218719</td>\n",
       "    </tr>\n",
       "  </tbody>\n",
       "</table>\n",
       "</div>"
      ],
      "text/plain": [
       "      location_name sex_name          cause_name metric_name  year     val\n",
       "17958         Spain     Male              Stroke      Number  2005   27165\n",
       "17959         Spain   Female              Stroke      Number  2005   36671\n",
       "19494       Croatia     Male  Headache disorders      Number  2005  239463\n",
       "19495       Croatia   Female  Headache disorders      Number  2005  291511\n",
       "19728       Hungary     Male          Dermatitis      Number  2005  218719"
      ]
     },
     "execution_count": 192,
     "metadata": {},
     "output_type": "execute_result"
    }
   ],
   "source": [
    "def process_deseases(df, countries_list, years_list):\n",
    "    \n",
    "    columns_to_keep = ['location_name', 'sex_name', 'cause_name', 'metric_name', 'year', 'val']\n",
    "\n",
    "    _df = df[(df[\"year\"].isin(years_list))][columns_to_keep]\n",
    "    _df = _df[_df[\"location_name\"].isin(countries_list)]\n",
    "    \n",
    "    _df = _df[(_df[\"sex_name\"].isin(['Male', 'Female'])) & (_df[\"metric_name\"] == 'Number')]\n",
    "    _df['val'] = _df['val'].map(round)\n",
    "    return _df\n",
    "\n",
    "df_diseases = process_deseases(df_diseases_raw, countries_list,  years_list)\n",
    "df_diseases.head()"
   ]
  },
  {
   "cell_type": "code",
   "execution_count": 204,
   "metadata": {
    "ExecuteTime": {
     "end_time": "2021-04-26T23:06:29.439437Z",
     "start_time": "2021-04-26T23:06:29.424631Z"
    }
   },
   "outputs": [],
   "source": [
    "def barplot_by_countries(df, x, h, w, t='', l=''):\n",
    "    \n",
    "    fig, axes = plt.subplots(1, 1, sharex=False, figsize=(18,6))\n",
    "    sns.histplot(data=df, axes = axes, x=x, hue=h, weights=w, multiple='stack', shrink=0.8)\n",
    "    \n",
    "    axes.set_title(t)\n",
    "    axes.set_ylabel(l)\n",
    "    legend = axes.get_legend()\n",
    "    legend.set_bbox_to_anchor((1, 1))\n",
    "\n",
    "    plt.show()"
   ]
  },
  {
   "cell_type": "code",
   "execution_count": 206,
   "metadata": {
    "ExecuteTime": {
     "end_time": "2021-04-26T23:06:33.809064Z",
     "start_time": "2021-04-26T23:06:32.771395Z"
    }
   },
   "outputs": [
    {
     "data": {
      "image/png": "[encoded data removed]",
      "text/plain": [
       "<Figure size 1296x432 with 1 Axes>"
      ]
     },
     "metadata": {},
     "output_type": "display_data"
    },
    {
     "data": {
      "image/png": "[encoded data removed]",
      "text/plain": [
       "<Figure size 1296x432 with 1 Axes>"
      ]
     },
     "metadata": {},
     "output_type": "display_data"
    }
   ],
   "source": [
    "\n",
    "df_1 = df_diseases[df_diseases['year'] == 2008].sort_values(['location_name', 'cause_name'])\n",
    "df_2 = df_diseases[df_diseases['year'] == 2010].sort_values(['location_name', 'cause_name'])\n",
    "\n",
    "barplot_by_countries(df_1, x='location_name', h='cause_name', w='val', t='Deseases by Country (2009)', l = 'number of cases')\n",
    "barplot_by_countries(df_2, x='location_name', h='cause_name', w='val', t='Deseases by Country (2015)', l = 'number of cases')\n"
   ]
  },
  {
   "cell_type": "code",
   "execution_count": null,
   "metadata": {
    "collapsed": true
   },
   "outputs": [],
   "source": []
  },
  {
   "cell_type": "markdown",
   "metadata": {
    "collapsed": true
   },
   "source": [
    "###  Employment"
   ]
  },
  {
   "cell_type": "code",
   "execution_count": 287,
   "metadata": {
    "ExecuteTime": {
     "end_time": "2021-04-26T23:22:48.490186Z",
     "start_time": "2021-04-26T23:22:48.273811Z"
    }
   },
   "outputs": [],
   "source": [
    "df_employment_raw = pd.read_excel('../raw data/Employment_WB/Employment_WB.xls',na_values='..')"
   ]
  },
  {
   "cell_type": "code",
   "execution_count": 288,
   "metadata": {
    "ExecuteTime": {
     "end_time": "2021-04-26T23:22:48.811937Z",
     "start_time": "2021-04-26T23:22:48.790107Z"
    }
   },
   "outputs": [
    {
     "data": {
      "text/html": [
       "<div>\n",
       "<style scoped>\n",
       "    .dataframe tbody tr th:only-of-type {\n",
       "        vertical-align: middle;\n",
       "    }\n",
       "\n",
       "    .dataframe tbody tr th {\n",
       "        vertical-align: top;\n",
       "    }\n",
       "\n",
       "    .dataframe thead th {\n",
       "        text-align: right;\n",
       "    }\n",
       "</style>\n",
       "<table border=\"1\" class=\"dataframe\">\n",
       "  <thead>\n",
       "    <tr style=\"text-align: right;\">\n",
       "      <th></th>\n",
       "      <th>Series Code</th>\n",
       "      <th>Country Name</th>\n",
       "      <th>Country Code</th>\n",
       "      <th>2000 [YR2000]</th>\n",
       "      <th>2001 [YR2001]</th>\n",
       "      <th>2002 [YR2002]</th>\n",
       "      <th>2003 [YR2003]</th>\n",
       "      <th>2004 [YR2004]</th>\n",
       "      <th>2005 [YR2005]</th>\n",
       "      <th>2006 [YR2006]</th>\n",
       "      <th>...</th>\n",
       "      <th>2011 [YR2011]</th>\n",
       "      <th>2012 [YR2012]</th>\n",
       "      <th>2013 [YR2013]</th>\n",
       "      <th>2014 [YR2014]</th>\n",
       "      <th>2015 [YR2015]</th>\n",
       "      <th>2016 [YR2016]</th>\n",
       "      <th>2017 [YR2017]</th>\n",
       "      <th>2018 [YR2018]</th>\n",
       "      <th>2019 [YR2019]</th>\n",
       "      <th>2020 [YR2020]</th>\n",
       "    </tr>\n",
       "  </thead>\n",
       "  <tbody>\n",
       "    <tr>\n",
       "      <th>0</th>\n",
       "      <td>SL.AGR.EMPL.MA.ZS</td>\n",
       "      <td>Afghanistan</td>\n",
       "      <td>AFG</td>\n",
       "      <td>63.650002</td>\n",
       "      <td>64.019997</td>\n",
       "      <td>61.970001</td>\n",
       "      <td>61.150002</td>\n",
       "      <td>60.509998</td>\n",
       "      <td>59.299999</td>\n",
       "      <td>58.389999</td>\n",
       "      <td>...</td>\n",
       "      <td>50.200001</td>\n",
       "      <td>47.810001</td>\n",
       "      <td>45.880001</td>\n",
       "      <td>44.090000</td>\n",
       "      <td>42.299999</td>\n",
       "      <td>40.660000</td>\n",
       "      <td>38.360001</td>\n",
       "      <td>37.259998</td>\n",
       "      <td>36.599998</td>\n",
       "      <td>NaN</td>\n",
       "    </tr>\n",
       "    <tr>\n",
       "      <th>1</th>\n",
       "      <td>SL.AGR.EMPL.MA.ZS</td>\n",
       "      <td>Albania</td>\n",
       "      <td>ALB</td>\n",
       "      <td>44.919998</td>\n",
       "      <td>42.959999</td>\n",
       "      <td>41.700001</td>\n",
       "      <td>40.939999</td>\n",
       "      <td>39.779999</td>\n",
       "      <td>38.560001</td>\n",
       "      <td>37.430000</td>\n",
       "      <td>...</td>\n",
       "      <td>38.810001</td>\n",
       "      <td>37.590000</td>\n",
       "      <td>37.570000</td>\n",
       "      <td>36.759998</td>\n",
       "      <td>36.740002</td>\n",
       "      <td>36.290001</td>\n",
       "      <td>34.959999</td>\n",
       "      <td>33.720001</td>\n",
       "      <td>32.709999</td>\n",
       "      <td>NaN</td>\n",
       "    </tr>\n",
       "    <tr>\n",
       "      <th>2</th>\n",
       "      <td>SL.AGR.EMPL.MA.ZS</td>\n",
       "      <td>Algeria</td>\n",
       "      <td>DZA</td>\n",
       "      <td>23.709999</td>\n",
       "      <td>23.080000</td>\n",
       "      <td>23.219999</td>\n",
       "      <td>23.360001</td>\n",
       "      <td>21.809999</td>\n",
       "      <td>20.180000</td>\n",
       "      <td>18.709999</td>\n",
       "      <td>...</td>\n",
       "      <td>12.300000</td>\n",
       "      <td>12.290000</td>\n",
       "      <td>12.160000</td>\n",
       "      <td>11.950000</td>\n",
       "      <td>11.780000</td>\n",
       "      <td>11.560000</td>\n",
       "      <td>11.360000</td>\n",
       "      <td>11.050000</td>\n",
       "      <td>10.760000</td>\n",
       "      <td>NaN</td>\n",
       "    </tr>\n",
       "    <tr>\n",
       "      <th>3</th>\n",
       "      <td>SL.AGR.EMPL.MA.ZS</td>\n",
       "      <td>American Samoa</td>\n",
       "      <td>ASM</td>\n",
       "      <td>NaN</td>\n",
       "      <td>NaN</td>\n",
       "      <td>NaN</td>\n",
       "      <td>NaN</td>\n",
       "      <td>NaN</td>\n",
       "      <td>NaN</td>\n",
       "      <td>NaN</td>\n",
       "      <td>...</td>\n",
       "      <td>NaN</td>\n",
       "      <td>NaN</td>\n",
       "      <td>NaN</td>\n",
       "      <td>NaN</td>\n",
       "      <td>NaN</td>\n",
       "      <td>NaN</td>\n",
       "      <td>NaN</td>\n",
       "      <td>NaN</td>\n",
       "      <td>NaN</td>\n",
       "      <td>NaN</td>\n",
       "    </tr>\n",
       "    <tr>\n",
       "      <th>4</th>\n",
       "      <td>SL.AGR.EMPL.MA.ZS</td>\n",
       "      <td>Andorra</td>\n",
       "      <td>AND</td>\n",
       "      <td>NaN</td>\n",
       "      <td>NaN</td>\n",
       "      <td>NaN</td>\n",
       "      <td>NaN</td>\n",
       "      <td>NaN</td>\n",
       "      <td>NaN</td>\n",
       "      <td>NaN</td>\n",
       "      <td>...</td>\n",
       "      <td>NaN</td>\n",
       "      <td>NaN</td>\n",
       "      <td>NaN</td>\n",
       "      <td>NaN</td>\n",
       "      <td>NaN</td>\n",
       "      <td>NaN</td>\n",
       "      <td>NaN</td>\n",
       "      <td>NaN</td>\n",
       "      <td>NaN</td>\n",
       "      <td>NaN</td>\n",
       "    </tr>\n",
       "  </tbody>\n",
       "</table>\n",
       "<p>5 rows × 24 columns</p>\n",
       "</div>"
      ],
      "text/plain": [
       "         Series Code    Country Name Country Code  2000 [YR2000]  \\\n",
       "0  SL.AGR.EMPL.MA.ZS     Afghanistan          AFG      63.650002   \n",
       "1  SL.AGR.EMPL.MA.ZS         Albania          ALB      44.919998   \n",
       "2  SL.AGR.EMPL.MA.ZS         Algeria          DZA      23.709999   \n",
       "3  SL.AGR.EMPL.MA.ZS  American Samoa          ASM            NaN   \n",
       "4  SL.AGR.EMPL.MA.ZS         Andorra          AND            NaN   \n",
       "\n",
       "   2001 [YR2001]  2002 [YR2002]  2003 [YR2003]  2004 [YR2004]  2005 [YR2005]  \\\n",
       "0      64.019997      61.970001      61.150002      60.509998      59.299999   \n",
       "1      42.959999      41.700001      40.939999      39.779999      38.560001   \n",
       "2      23.080000      23.219999      23.360001      21.809999      20.180000   \n",
       "3            NaN            NaN            NaN            NaN            NaN   \n",
       "4            NaN            NaN            NaN            NaN            NaN   \n",
       "\n",
       "   2006 [YR2006]  ...  2011 [YR2011]  2012 [YR2012]  2013 [YR2013]  \\\n",
       "0      58.389999  ...      50.200001      47.810001      45.880001   \n",
       "1      37.430000  ...      38.810001      37.590000      37.570000   \n",
       "2      18.709999  ...      12.300000      12.290000      12.160000   \n",
       "3            NaN  ...            NaN            NaN            NaN   \n",
       "4            NaN  ...            NaN            NaN            NaN   \n",
       "\n",
       "   2014 [YR2014]  2015 [YR2015]  2016 [YR2016]  2017 [YR2017]  2018 [YR2018]  \\\n",
       "0      44.090000      42.299999      40.660000      38.360001      37.259998   \n",
       "1      36.759998      36.740002      36.290001      34.959999      33.720001   \n",
       "2      11.950000      11.780000      11.560000      11.360000      11.050000   \n",
       "3            NaN            NaN            NaN            NaN            NaN   \n",
       "4            NaN            NaN            NaN            NaN            NaN   \n",
       "\n",
       "   2019 [YR2019]  2020 [YR2020]  \n",
       "0      36.599998            NaN  \n",
       "1      32.709999            NaN  \n",
       "2      10.760000            NaN  \n",
       "3            NaN            NaN  \n",
       "4            NaN            NaN  \n",
       "\n",
       "[5 rows x 24 columns]"
      ]
     },
     "execution_count": 288,
     "metadata": {},
     "output_type": "execute_result"
    }
   ],
   "source": [
    "df_employment_raw.head()"
   ]
  },
  {
   "cell_type": "code",
   "execution_count": 123,
   "metadata": {
    "ExecuteTime": {
     "end_time": "2021-04-26T22:09:10.779632Z",
     "start_time": "2021-04-26T22:09:10.774068Z"
    },
    "collapsed": true
   },
   "outputs": [],
   "source": []
  },
  {
   "cell_type": "code",
   "execution_count": 319,
   "metadata": {
    "ExecuteTime": {
     "end_time": "2021-04-26T23:32:04.888540Z",
     "start_time": "2021-04-26T23:32:04.645204Z"
    }
   },
   "outputs": [],
   "source": [
    "df = df_employment.copy()\n",
    "\n",
    "def map_sector_name(row):\n",
    "    sector_mapping = {\n",
    "        \"SL.AGR.EMPL.FE.ZS\": \"per_female_agriculture\",\n",
    "        \"SL.AGR.EMPL.MA.ZS\": \"per_male_agriculture\",\n",
    "        \"SL.AGR.EMPL.ZS\": \"per_total_agriculture\",\n",
    "        \"SL.EMP.MPYR.FE.ZS\": \"per_female_employers\",\n",
    "        \"SL.EMP.MPYR.MA.ZS\": \"per_male_employers\",\n",
    "        \"SL.EMP.MPYR.ZS\": \"per_total_employers\",\n",
    "        \"SL.IND.EMPL.FE.ZS\": \"per_female_industry\",\n",
    "        \"SL.IND.EMPL.MA.ZS\": \"per_male_industry\",\n",
    "        \"SL.IND.EMPL.ZS\": \"per_total_industry\",\n",
    "        \"SL.SRV.EMPL.FE.ZS\": \"per_female_services\",\n",
    "        \"SL.SRV.EMPL.MA.ZS\": \"per_male_industry\",\n",
    "        \"SL.SRV.EMPL.ZS\": \"per_total_services\"\n",
    "    }\n",
    "    return sector_mapping[row]\n",
    "\n",
    "def clean_sector_name(row):\n",
    "    return (row\n",
    "            .replace('per_female_', '')\n",
    "            .replace('per_male_', '')\n",
    "           )\n",
    "    \n",
    "def extract_gender(row):\n",
    "    if 'per_female' in row:\n",
    "        return 'Female'\n",
    "    elif 'per_male' in row:\n",
    "        return 'Male'\n",
    "    else:\n",
    "        return 'NOT_DEFINED'\n",
    "\n",
    "    \n",
    "def process_employment(df):\n",
    "    \n",
    "    df_res = pd.DataFrame();\n",
    "    \n",
    "    for year in years_list:\n",
    "        #year = 2010\n",
    "        #print(f\"{year} [YR{year}]\")\n",
    "        col = f\"{year} [YR{year}]\"\n",
    "        \n",
    "        columns_to_keep = ['Series Code', 'Country Name', col]\n",
    "        \n",
    "        _df = df.copy()\n",
    "        _df = _df[_df[\"Country Name\"].isin(countries_list)][columns_to_keep]\n",
    "        _df['employment_sector'] = _df['Series Code'].apply(map_sector_name)\n",
    "        _df['gender'] = _df['employment_sector'].apply(extract_gender)\n",
    "        _df['employment_sector'] = _df['employment_sector'].apply(clean_sector_name)\n",
    "        _df['year'] = year\n",
    "        _df['val'] = _df[col]\n",
    "    \n",
    "        \n",
    "        _df = _df[_df[\"year\"].isin(years_list)]\n",
    "        _df = _df[_df['employment_sector'].isin(['agriculture', 'industry', 'services'])]\n",
    "        \n",
    "        df_res = pd.concat([df_res, _df], axis=0)\n",
    "\n",
    "    \n",
    "    df_res = (df_res[['Country Name', 'year', 'gender', 'employment_sector', 'val']]\n",
    "                    .rename(columns={'Country Name':'location_name'})\n",
    "                  )\n",
    "    \n",
    "    df_res['val'] = df_res['val'].fillna(0)\n",
    "    df_res['val'] = df_res['val'].map(round)\n",
    "    \n",
    "    return df_res\n",
    "\n",
    "df_employment = process_employment(df_employment_raw)\n"
   ]
  },
  {
   "cell_type": "code",
   "execution_count": 320,
   "metadata": {
    "ExecuteTime": {
     "end_time": "2021-04-26T23:32:05.172163Z",
     "start_time": "2021-04-26T23:32:05.159128Z"
    }
   },
   "outputs": [
    {
     "data": {
      "text/html": [
       "<div>\n",
       "<style scoped>\n",
       "    .dataframe tbody tr th:only-of-type {\n",
       "        vertical-align: middle;\n",
       "    }\n",
       "\n",
       "    .dataframe tbody tr th {\n",
       "        vertical-align: top;\n",
       "    }\n",
       "\n",
       "    .dataframe thead th {\n",
       "        text-align: right;\n",
       "    }\n",
       "</style>\n",
       "<table border=\"1\" class=\"dataframe\">\n",
       "  <thead>\n",
       "    <tr style=\"text-align: right;\">\n",
       "      <th></th>\n",
       "      <th>location_name</th>\n",
       "      <th>year</th>\n",
       "      <th>gender</th>\n",
       "      <th>employment_sector</th>\n",
       "      <th>val</th>\n",
       "    </tr>\n",
       "  </thead>\n",
       "  <tbody>\n",
       "    <tr>\n",
       "      <th>48</th>\n",
       "      <td>Croatia</td>\n",
       "      <td>2005</td>\n",
       "      <td>Male</td>\n",
       "      <td>agriculture</td>\n",
       "      <td>16</td>\n",
       "    </tr>\n",
       "    <tr>\n",
       "      <th>53</th>\n",
       "      <td>Denmark</td>\n",
       "      <td>2005</td>\n",
       "      <td>Male</td>\n",
       "      <td>agriculture</td>\n",
       "      <td>5</td>\n",
       "    </tr>\n",
       "    <tr>\n",
       "      <th>67</th>\n",
       "      <td>Finland</td>\n",
       "      <td>2005</td>\n",
       "      <td>Male</td>\n",
       "      <td>agriculture</td>\n",
       "      <td>7</td>\n",
       "    </tr>\n",
       "    <tr>\n",
       "      <th>68</th>\n",
       "      <td>France</td>\n",
       "      <td>2005</td>\n",
       "      <td>Male</td>\n",
       "      <td>agriculture</td>\n",
       "      <td>5</td>\n",
       "    </tr>\n",
       "    <tr>\n",
       "      <th>73</th>\n",
       "      <td>Germany</td>\n",
       "      <td>2005</td>\n",
       "      <td>Male</td>\n",
       "      <td>agriculture</td>\n",
       "      <td>3</td>\n",
       "    </tr>\n",
       "  </tbody>\n",
       "</table>\n",
       "</div>"
      ],
      "text/plain": [
       "   location_name  year gender employment_sector  val\n",
       "48       Croatia  2005   Male       agriculture   16\n",
       "53       Denmark  2005   Male       agriculture    5\n",
       "67       Finland  2005   Male       agriculture    7\n",
       "68        France  2005   Male       agriculture    5\n",
       "73       Germany  2005   Male       agriculture    3"
      ]
     },
     "execution_count": 320,
     "metadata": {},
     "output_type": "execute_result"
    }
   ],
   "source": [
    "df_employment.head()"
   ]
  },
  {
   "cell_type": "code",
   "execution_count": null,
   "metadata": {
    "ExecuteTime": {
     "end_time": "2021-04-26T23:31:28.230864Z",
     "start_time": "2021-04-26T23:31:28.224640Z"
    }
   },
   "outputs": [],
   "source": []
  },
  {
   "cell_type": "code",
   "execution_count": 321,
   "metadata": {
    "ExecuteTime": {
     "end_time": "2021-04-26T23:32:06.679734Z",
     "start_time": "2021-04-26T23:32:05.927198Z"
    }
   },
   "outputs": [
    {
     "data": {
      "image/png": "[encoded data removed]",
      "text/plain": [
       "<Figure size 1296x432 with 1 Axes>"
      ]
     },
     "metadata": {},
     "output_type": "display_data"
    },
    {
     "data": {
      "image/png": "[encoded data removed]",
      "text/plain": [
       "<Figure size 1296x432 with 1 Axes>"
      ]
     },
     "metadata": {},
     "output_type": "display_data"
    }
   ],
   "source": [
    "\n",
    "df_1 = df_employment[df_employment['year'] == 2010].sort_values(['location_name', 'employment_sector']).copy()\n",
    "df_2 = df_employment[df_employment['year'] == 2012].sort_values(['location_name', 'employment_sector']).copy()\n",
    "\n",
    "barplot_by_countries(df_1, x='location_name', h='employment_sector', w='val', t='Employment by Country (2010)', l = 'number of')\n",
    "barplot_by_countries(df_2, x='location_name', h='employment_sector', w='val', t='Deseases by Country (2012)', l = 'number of')\n"
   ]
  },
  {
   "cell_type": "markdown",
   "metadata": {},
   "source": [
    "##### "
   ]
  }
 ],
 "metadata": {
  "kernelspec": {
   "display_name": "Python 3",
   "language": "python",
   "name": "python3"
  },
  "language_info": {
   "codemirror_mode": {
    "name": "ipython",
    "version": 3
   },
   "file_extension": ".py",
   "mimetype": "text/x-python",
   "name": "python",
   "nbconvert_exporter": "python",
   "pygments_lexer": "ipython3",
   "version": "3.6.9"
  },
  "varInspector": {
   "cols": {
    "lenName": 16,
    "lenType": 16,
    "lenVar": 40
   },
   "kernels_config": {
    "python": {
     "delete_cmd_postfix": "",
     "delete_cmd_prefix": "del ",
     "library": "var_list.py",
     "varRefreshCmd": "print(var_dic_list())"
    },
    "r": {
     "delete_cmd_postfix": ") ",
     "delete_cmd_prefix": "rm(",
     "library": "var_list.r",
     "varRefreshCmd": "cat(var_dic_list()) "
    }
   },
   "types_to_exclude": [
    "module",
    "function",
    "builtin_function_or_method",
    "instance",
    "_Feature"
   ],
   "window_display": false
  }
 },
 "nbformat": 4,
 "nbformat_minor": 2
}
