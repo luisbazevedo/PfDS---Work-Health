{
 "cells": [
  {
   "cell_type": "markdown",
   "metadata": {},
   "source": [
    "### Work and Health\n",
    "1. Importing the data\n",
    "* Functions to filter & clean the data\n",
    "2. data exploration\n",
    "    1. basic exploration\n",
    "    2. statistical exploration\n",
    "    3. visual exploration"
   ]
  },
  {
   "cell_type": "code",
   "execution_count": 2,
   "metadata": {},
   "outputs": [],
   "source": [
    "#Import the basic libraries\n",
    "import pandas as pd \n",
    "import numpy as np \n",
    "import matplotlib.pyplot as plt\n",
    "import seaborn as sns\n",
    "plt.style.use('ggplot')"
   ]
  },
  {
   "cell_type": "markdown",
   "metadata": {},
   "source": [
    "### Import diseases data"
   ]
  },
  {
   "cell_type": "code",
   "execution_count": 3,
   "metadata": {},
   "outputs": [],
   "source": [
    "df_diseases_1 = pd.read_csv('/Users/luisazevedo/Documents/GitHub/PfDS---Work-Health/raw data/Diseases_GHDx_2/IHME-GBD_2019_DATA-16b07a3d-1/IHME-GBD_2019_DATA-16b07a3d-1.csv')\n",
    "df_diseases_2 = pd.read_csv('/Users/luisazevedo/Documents/GitHub/PfDS---Work-Health/raw data/Diseases_GHDx_2/IHME-GBD_2019_DATA-16b07a3d-2/IHME-GBD_2019_DATA-16b07a3d-2.csv')\n",
    "df_diseases = df_diseases_1.append(df_diseases_2).reset_index()\n",
    "df_diseases.drop(columns = 'index', inplace = True)"
   ]
  },
  {
   "cell_type": "markdown",
   "metadata": {},
   "source": [
    "### Function to filter usefull disease data"
   ]
  },
  {
   "cell_type": "code",
   "execution_count": 5,
   "metadata": {},
   "outputs": [],
   "source": [
    "#data cleaning - function that receives year of analysis, gender, metric and measure. Returns the \"cleaned\" df\n",
    "\n",
    "def get_df_dis(df,year,gender,metric,measure):\n",
    "    #drop redundant columns (code for each feature, mainly)\n",
    "    df.copy().drop(columns=['measure_id','location_id','measure_name','sex_id','age_id','age_name','cause_id','metric_id'\\\n",
    "                         ,'upper','lower'], inplace=True)\n",
    "    \n",
    "    #filter by gender and year (Male or Female)\n",
    "    df = df.loc[df_diseases['sex_name'].isin([gender])]\\\n",
    ".loc[df_diseases['year'] == year].drop(columns=['sex_name','year']).copy()\n",
    "    \n",
    "    #filter by metric (Number, Percent or Rate)\n",
    "    df = df.loc[df.metric_name == metric].copy()\n",
    "    df.drop(columns = ['metric_name'],inplace = True)\n",
    "    \n",
    "    #filter by measure (Incidence or Prevalence)\n",
    "    df = df.loc[df.measure_name == measure].copy()\n",
    "    df.drop(columns = ['measure_name'],inplace = True)\n",
    "    \n",
    "    #pivoting table with disease names = columns\n",
    "    df = df.copy().pivot(index='location_name', columns = 'cause_name', values = 'val')\n",
    "    \n",
    "    return df"
   ]
  },
  {
   "cell_type": "markdown",
   "metadata": {},
   "source": [
    "### Import health cost data"
   ]
  },
  {
   "cell_type": "code",
   "execution_count": 6,
   "metadata": {},
   "outputs": [],
   "source": [
    "df_health_cost = pd.read_excel('/Users/luisazevedo/Documents/GitHub/PfDS---Work-Health/raw data/Health_expenditure_WB/Health_expenditure_WB.xls',na_values='..')"
   ]
  },
  {
   "cell_type": "markdown",
   "metadata": {},
   "source": [
    "### Function to filter usefull HC data"
   ]
  },
  {
   "cell_type": "code",
   "execution_count": 33,
   "metadata": {},
   "outputs": [],
   "source": [
    "def get_df_hc(df,year):\n",
    "    \n",
    "    #transform column names into more readable names\n",
    "    new_col = list(df.columns)[0:4]\n",
    "    for col in list(df.columns)[4::]:\n",
    "        new_col.append(col.split(' ')[0])\n",
    "    \n",
    "    #reassign years as new columns\n",
    "    df.set_axis(new_col, axis=1, inplace=True)\n",
    "        \n",
    "    # remove unnecessary years\n",
    "    df = df[['Series Code','Country Name',year]].copy()\n",
    "    \n",
    "    #pivoting the table \n",
    "    df = df.copy().pivot(index='Country Name', columns = 'Series Code', values = year)\n",
    "    \n",
    "    #rename series columns for more readability\n",
    "    df.rename(columns={'SH.XPD.GHED.PP.CD':'Public_cost','SH.XPD.PVTD.PP.CD':'Private_cost'}, inplace=True)\n",
    "    \n",
    "    #rename index axis for further merging\n",
    "    df = df.rename_axis('location_name')\n",
    "    \n",
    "    return df"
   ]
  },
  {
   "cell_type": "markdown",
   "metadata": {},
   "source": [
    "### Import GDP p/capita data"
   ]
  },
  {
   "cell_type": "code",
   "execution_count": 35,
   "metadata": {},
   "outputs": [],
   "source": [
    "df_gdp = pd.read_excel('/Users/luisazevedo/Documents/GitHub/PfDS---Work-Health/raw data/GPD_WB/GPD_CAPITA_WB.xlsx',na_values='..')"
   ]
  },
  {
   "cell_type": "markdown",
   "metadata": {},
   "source": [
    "### Function to filter usefull GDP data"
   ]
  },
  {
   "cell_type": "code",
   "execution_count": 36,
   "metadata": {},
   "outputs": [],
   "source": [
    "def get_gdp(df,year):\n",
    "    \n",
    "    #transform column names into more readable names\n",
    "    new_col = list(df.columns)[0:4]\n",
    "    for col in list(df.columns)[4::]:\n",
    "        new_col.append(col.split(' ')[0])\n",
    "    \n",
    "    #reassign years as new columns\n",
    "    df.set_axis(new_col, axis=1, inplace=True)\n",
    "        \n",
    "    # remove unnecessary years\n",
    "    df = df[['Series Code','Country Name',year]].copy()\n",
    "    \n",
    "    #pivoting the table \n",
    "    df = df.copy().pivot(index='Country Name', columns = 'Series Code', values = year)\n",
    "    \n",
    "    #rename series columns for more readability\n",
    "    df.rename(columns={'NY.GDP.PCAP.CD':'GDP_per_cap'}, inplace=True)\n",
    "    \n",
    "    #rename index axis for further merging\n",
    "    df = df.rename_axis('location_name')\n",
    "    \n",
    "    return df"
   ]
  },
  {
   "cell_type": "markdown",
   "metadata": {},
   "source": [
    "### Import Employment data"
   ]
  },
  {
   "cell_type": "code",
   "execution_count": null,
   "metadata": {},
   "outputs": [],
   "source": [
    "df_employment = pd.read_excel('/Users/luisazevedo/Documents/GitHub/PfDS---Work-Health/raw data/Employment_WB_2/Employment_WB_2.xlsx',na_values='..')"
   ]
  },
  {
   "cell_type": "markdown",
   "metadata": {},
   "source": [
    "### Function to filter usefull employment data"
   ]
  },
  {
   "cell_type": "code",
   "execution_count": null,
   "metadata": {},
   "outputs": [],
   "source": [
    "def get_employment(df,year):\n",
    "    \n",
    "    #transform column names into more readable names\n",
    "    new_col = list(df.columns)[0:4]\n",
    "    for col in list(df.columns)[4::]:\n",
    "        new_col.append(col.split(' ')[0])\n",
    "    \n",
    "    #reassign years as new columns\n",
    "    df.set_axis(new_col, axis=1, inplace=True)\n",
    "        \n",
    "    # remove unnecessary years\n",
    "    df = df[['Series Code','Country Name',year]].copy()\n",
    "    \n",
    "    #pivoting the table \n",
    "    df = df.copy().pivot(index='Country Name', columns = 'Series Code', values = year)\n",
    "    \n",
    "    #rename columns for better readability\n",
    "    df.rename(columns={'SL.AGR.EMPL.FE.ZS':'per_female_agriculture',\\\n",
    "                      'SL.AGR.EMPL.MA.ZS':'per_male_agriculture',\\\n",
    "                      'SL.AGR.EMPL.ZS':'per_total_agriculture',\\\n",
    "                      'SL.EMP.TOTL.SP.ZS':'per_total_employment',\\\n",
    "                      'SL.EMP.TOTL.SP.MA.ZS':'per_male_employment',\\\n",
    "                      'SL.EMP.TOTL.SP.FE.ZS':'per_female_employment',\\\n",
    "                      'SL.IND.EMPL.FE.ZS':'per_female_industry',\\\n",
    "                      'SL.IND.EMPL.MA.ZS':'per_male_industry',\\\n",
    "                      'SL.IND.EMPL.ZS':'per_total_industry',\\\n",
    "                      'SL.SRV.EMPL.FE.ZS':'per_female_services',\\\n",
    "                      'SL.SRV.EMPL.MA.ZS':'per_male_industry',\\\n",
    "                      'SL.SRV.EMPL.ZS':'per_total_services'}, inplace=True)\n",
    "    \n",
    "    #rename index axis for further merging\n",
    "    df = df.rename_axis('location_name')\n",
    "    \n",
    "    return df"
   ]
  }
 ],
 "metadata": {
  "kernelspec": {
   "display_name": "Python 3",
   "language": "python",
   "name": "python3"
  },
  "language_info": {
   "codemirror_mode": {
    "name": "ipython",
    "version": 3
   },
   "file_extension": ".py",
   "mimetype": "text/x-python",
   "name": "python",
   "nbconvert_exporter": "python",
   "pygments_lexer": "ipython3",
   "version": "3.8.5"
  }
 },
 "nbformat": 4,
 "nbformat_minor": 4
}
